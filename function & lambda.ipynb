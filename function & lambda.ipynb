{
 "cells": [
  {
   "cell_type": "markdown",
   "id": "dbea9db4",
   "metadata": {},
   "source": [
    "***\n",
    "# Functions\n",
    "***\n",
    "\n",
    "In this section, we explore the creation of and use of functions in Python. We use the general term function to describe a traditional, stateless function that is invoked without the context of a particular class or an instance of that class, such as\n",
    "```sorted(data)```.\n",
    "\n",
    "We use the more specific term method to describe a member function that is invoked upon a specific object using an object oriented message passing syntax, such as ```data.sort()```. In this section, we only consider pure functions; methods will be explored with more general object-oriented principles later. \n",
    "\n",
    "We begin with an example to demonstrate the syntax for defining functions in Python.\n",
    "\n",
    "* ## Function Calls and Definition\n",
    "\n",
    "The usual syntax for defining a Python function is as follows:\n",
    "\n",
    "```python\n",
    "def <function_name>([<parameters>]):\n",
    "    <statement(s)>\n",
    "````\n",
    "\n",
    "The components of the definition are explained in the table below:\n",
    "\n",
    "\n",
    "|     component    |                                           meaning                                            |\n",
    "|:----------------:|:--------------------------------------------------------------------------------------------:|\n",
    "|       `def`      |              The keyword that informs Python that a function is being defined                |\n",
    "|`<function_name>` |                     A valid Python identifier that names the function                        |\n",
    "|  `<parameters>`  |     An optional, comma-separated list of parameters that may be passed to the function       |\n",
    "|        `:`       | Punctuation that denotes the end of the Python function header (the name and parameter list) |\n",
    "| `<statement(s)>` |                              A block of valid Python statements                              |\n",
    "\n",
    "The final item, ```<statement(s)>```, is called the body of the function. The body is a block of statements that will be executed when the function is called. The body of a Python function is defined by indentation in accordance with the off-side rule. This is the same as code blocks associated with a control structure, like an ```if``` or ```while``` statement.\n",
    "\n",
    "The syntax for calling a Python function is as follows:\n",
    "\n",
    "```python\n",
    "<function_name>([<arguments>])\n",
    "```\n",
    "\n",
    "The following function counts the number of occurrences of a given target value within any form of iterable data set."
   ]
  },
  {
   "cell_type": "code",
   "execution_count": 1,
   "id": "83bbe987",
   "metadata": {},
   "outputs": [],
   "source": [
    "def count(data, target):\n",
    "    n = 0\n",
    "    for item in data:\n",
    "        if item == target:  # found a match\n",
    "            n += 1\n",
    "    return n"
   ]
  },
  {
   "cell_type": "markdown",
   "id": "7f6396b9",
   "metadata": {},
   "source": [
    "The first line, beginning with the keyword def, serves as the function’s signature. This establishes a new identifier as the name of the function (count, in this example), and it establishes the number of parameters that it expects, as well as names\n",
    "identifying those parameters (data and target, in this example).\n",
    "\n",
    "Unlike Java and C++, Python is a dynamically typed language, and therefore a Python signature does not designate the types of those parameters, nor the type (if any) of a return value. Those expectations should be stated in the function’s documentation and can be enforced within the body of the function, but misuse of a function will only be detected at run-time but ther exists a way that you can sort of manually determine the type of the designated parameters and the function's return value which is:"
   ]
  },
  {
   "cell_type": "code",
   "execution_count": 2,
   "id": "2b4465f1",
   "metadata": {},
   "outputs": [],
   "source": [
    "def count(data: list, target:str) -> int:\n",
    "    n = 0\n",
    "    for item in data:\n",
    "        if item == target:  # found a match\n",
    "            n += 1\n",
    "    return n"
   ]
  },
  {
   "cell_type": "markdown",
   "id": "a47013df",
   "metadata": {},
   "source": [
    "The remainder of the function definition is known as the body of the function. As is the case with control structures in Python, the body of a function is typically expressed as an indented block of code. Each time a function is called, Python creates a dedicated activation record that stores information relevant to the current call. This activation record includes what is known as a namespace to manage all identifiers that have local scope (which we will talk about later) within the current call.\n",
    "\n",
    "The namespace includes the function’s parameters and any other identifiers that are defined locally within the body of the function. An identifier in the local scope of the function caller has no relation to any identifier with the same name in the\n",
    "caller’s scope (although identifiers in different scopes may be aliases to the same object). In our first example, the identifier n has scope that is local to the function call, as does the identifier item, which is established as the loop variable."
   ]
  },
  {
   "cell_type": "markdown",
   "id": "16b25cb1",
   "metadata": {},
   "source": [
    "* Here’s a script that defines and calls f():"
   ]
  },
  {
   "cell_type": "code",
   "execution_count": 3,
   "id": "24dd8121",
   "metadata": {},
   "outputs": [
    {
     "name": "stdout",
     "output_type": "stream",
     "text": [
      "Before calling f()\n",
      "-- Inside f()\n",
      "After calling f()\n"
     ]
    }
   ],
   "source": [
    "def f():\n",
    "    s = '-- Inside f()'\n",
    "    print(s)\n",
    "\n",
    "    \n",
    "print('Before calling f()')\n",
    "f()\n",
    "print('After calling f()')"
   ]
  },
  {
   "cell_type": "markdown",
   "id": "e4ae5267",
   "metadata": {},
   "source": [
    "* **Here’s how this code works:**\n",
    "\n",
    "1. Line 1 uses the ```def``` keyword to indicate that a function is being defined. Execution of the def statement merely creates the definition of ```f()```. All the following lines that are indented (lines 2 to 3) become part of the body of ```f()``` and are stored as its definition, but they aren’t executed yet.\n",
    "\n",
    "2. Line 4 is a bit of whitespace between the function definition and the first line of the main program. While it isn’t syntactically necessary, it is nice to have. To learn more about whitespace around top-level Python function definitions, check out Writing Beautiful Pythonic Code With PEP 8.\n",
    "\n",
    "3. Line 5 is the first statement that isn’t indented because it isn’t a part of the definition of ```f()```. It’s the start of the main program. When the main program executes, this statement is executed first.\n",
    "\n",
    "4. Line 6 is a call to ```f()```. Note that empty parentheses are always required in both a function definition and a function call, even when there are no parameters or arguments. Execution proceeds to ```f()``` and the statements in the body of ```f()``` are executed.\n",
    "\n",
    "5. Line 7 is the next line to execute once the body of ```f()``` has finished. Execution returns to this ```print()``` statement.\n",
    "\n",
    "The sequence of execution (or control flow) for foo.py is shown in the following diagram:"
   ]
  },
  {
   "cell_type": "markdown",
   "id": "33d45411",
   "metadata": {},
   "source": [
    "<div>\n",
    "<img src=\"https://files.realpython.com/media/t.f3e2000ecb56.png\", width=350/>\n",
    "</div>"
   ]
  },
  {
   "cell_type": "markdown",
   "id": "f59a611a",
   "metadata": {},
   "source": [
    "**Note:** Occasionally, you may want to define an empty function that does nothing. This is referred to as a **stub**, which is usually a temporary placeholder for a Python function that will be fully implemented at a later time. Just as a block in a control structure can’t be empty, neither can the body of a function. To define a stub function, use the ```pass``` statement:"
   ]
  },
  {
   "cell_type": "code",
   "execution_count": 4,
   "id": "15de4c59",
   "metadata": {},
   "outputs": [],
   "source": [
    "def f():\n",
    "    pass\n",
    "\n",
    "f()"
   ]
  },
  {
   "cell_type": "markdown",
   "id": "99ea9f34",
   "metadata": {},
   "source": [
    "As you can see above, a call to a stub function is syntactically valid but doesn’t do anything."
   ]
  },
  {
   "cell_type": "markdown",
   "id": "81a69512",
   "metadata": {},
   "source": [
    "* ## Return Statement\n",
    "\n",
    "A ```return``` statement is used within the body of a function to **indicate that the function should immediately cease execution, and that an expressed value should be returned to the caller**. <mark>If a ```return``` statement is executed without an explicit argument, the ```None``` value is automatically returned</mark>. Likewise, ```None``` will be returned <mark>if the flow of control ever reaches the end of a function body without having executed a return statement.</mark>\n",
    "\n",
    "Often, a ```return``` statement will be the final command within the body of the function, as was the case in our earlier example of a count function. However, **there can be multiple return statements in the same function, with conditional logic controlling which such command is executed, if any.**\n",
    "\n",
    "As a further example, consider the following function that tests if a value exists in a sequence:"
   ]
  },
  {
   "cell_type": "code",
   "execution_count": 5,
   "id": "7715e772",
   "metadata": {},
   "outputs": [],
   "source": [
    "def contains(data, target):\n",
    "    for item in target:\n",
    "        if item == target: # found a match\n",
    "            return True\n",
    "    return False"
   ]
  },
  {
   "cell_type": "markdown",
   "id": "8f73d32a",
   "metadata": {},
   "source": [
    "If the conditional within the loop body is ever satisfied, the ```return True``` statement is executed and the function immediately ends, with ```True``` designating that the target value was found. Conversely, if the ```for``` loop reaches its conclusion without ever finding the match, the final ```return``` False statement will be executed."
   ]
  },
  {
   "cell_type": "markdown",
   "id": "8f3332e5",
   "metadata": {},
   "source": [
    "* ## Argument Passing\n",
    "\n",
    "### Positional Arguments\n",
    "\n",
    "The most straightforward way to pass arguments to a Python function is with positional arguments (also called required arguments). In the function definition, you specify a comma-separated list of parameters inside the parentheses:"
   ]
  },
  {
   "cell_type": "code",
   "execution_count": 6,
   "id": "e0aa2df5",
   "metadata": {},
   "outputs": [
    {
     "name": "stdout",
     "output_type": "stream",
     "text": [
      "6 bananas cost $1.74\n"
     ]
    }
   ],
   "source": [
    "def function(quantity, item, price):\n",
    "    print(f'{quantity} {item} cost ${price:.2f}')\n",
    "    \n",
    "\n",
    "function(6, 'bananas', 1.74)"
   ]
  },
  {
   "cell_type": "markdown",
   "id": "9734ab74",
   "metadata": {},
   "source": [
    "* In some programming texts, the parameters given in the function definition are referred to as formal parameters, and the arguments in the function call are referred to as actual parameters:"
   ]
  },
  {
   "cell_type": "markdown",
   "id": "1fd48e2b",
   "metadata": {},
   "source": [
    "<div>\n",
    "<img src=\"https://files.realpython.com/media/t.4eefe0ad45c8.png\", width=450/>\n",
    "</div>"
   ]
  },
  {
   "cell_type": "markdown",
   "id": "a7a9212d",
   "metadata": {},
   "source": [
    "Although positional arguments are the most straightforward way to pass data to a function, they also afford the least flexibility. For starters, the **order** of the arguments in the call must match the order of the parameters in the definition. There’s nothing to stop you from specifying positional arguments out of order, of course:"
   ]
  },
  {
   "cell_type": "code",
   "execution_count": 7,
   "id": "dee4706f",
   "metadata": {},
   "outputs": [
    {
     "name": "stdout",
     "output_type": "stream",
     "text": [
      "bananas 1.74 cost $6.00\n"
     ]
    }
   ],
   "source": [
    "function('bananas', 1.74, 6)"
   ]
  },
  {
   "cell_type": "markdown",
   "id": "029a1dd3",
   "metadata": {},
   "source": [
    "With positional arguments, the arguments in the call and the parameters in the definition must agree not only in order but in **number** as well. That’s the reason positional arguments are also referred to as required arguments. You can’t leave any out when calling the function:"
   ]
  },
  {
   "cell_type": "code",
   "execution_count": 8,
   "id": "11b889cd",
   "metadata": {},
   "outputs": [
    {
     "ename": "TypeError",
     "evalue": "function() takes 3 positional arguments but 4 were given",
     "output_type": "error",
     "traceback": [
      "\u001B[1;31m---------------------------------------------------------------------------\u001B[0m",
      "\u001B[1;31mTypeError\u001B[0m                                 Traceback (most recent call last)",
      "\u001B[1;32m~\\AppData\\Local\\Temp/ipykernel_7440/942944827.py\u001B[0m in \u001B[0;36m<module>\u001B[1;34m\u001B[0m\n\u001B[1;32m----> 1\u001B[1;33m \u001B[0mfunction\u001B[0m\u001B[1;33m(\u001B[0m\u001B[1;36m6\u001B[0m\u001B[1;33m,\u001B[0m \u001B[1;34m'bananas'\u001B[0m\u001B[1;33m,\u001B[0m \u001B[1;36m1.74\u001B[0m\u001B[1;33m,\u001B[0m \u001B[1;34m'kumquats'\u001B[0m\u001B[1;33m)\u001B[0m\u001B[1;33m\u001B[0m\u001B[1;33m\u001B[0m\u001B[0m\n\u001B[0m\u001B[0;32m      2\u001B[0m \u001B[1;33m\u001B[0m\u001B[0m\n",
      "\u001B[1;31mTypeError\u001B[0m: function() takes 3 positional arguments but 4 were given"
     ]
    }
   ],
   "source": [
    "function(6, 'bananas', 1.74, 'kumquats')"
   ]
  },
  {
   "cell_type": "markdown",
   "id": "937f3d6c",
   "metadata": {},
   "source": [
    "### Keyword Arguments\n",
    "\n",
    "When you’re calling a function, you can specify arguments in the form ```<keyword>=<value>```. In that case, each ```<keyword>``` must match a parameter in the Python function definition. For example, the previously defined function ```function()``` may be called with keyword arguments as follows:"
   ]
  },
  {
   "cell_type": "code",
   "execution_count": null,
   "id": "9ec29b79",
   "metadata": {},
   "outputs": [],
   "source": [
    "function(quantity=6, item='bananas', price=1.74)"
   ]
  },
  {
   "cell_type": "markdown",
   "id": "e24e877f",
   "metadata": {},
   "source": [
    "* Referencing a keyword that doesn’t match any of the declared parameters generates an exception:"
   ]
  },
  {
   "cell_type": "code",
   "execution_count": null,
   "id": "57a027fb",
   "metadata": {},
   "outputs": [],
   "source": [
    "function(quantity=6, item='bananas', cost=1.74)"
   ]
  },
  {
   "cell_type": "markdown",
   "id": "ec7c30d4",
   "metadata": {},
   "source": [
    "Using keyword arguments **lifts the restriction on argument order**. Each keyword argument explicitly designates a specific parameter by name, so you can specify them in any order and Python will still know which argument goes with which parameter:"
   ]
  },
  {
   "cell_type": "code",
   "execution_count": null,
   "id": "4d925cbf",
   "metadata": {},
   "outputs": [],
   "source": [
    "function(item='bananas', price=1.74, quantity=6)"
   ]
  },
  {
   "cell_type": "markdown",
   "id": "28a1e9e8",
   "metadata": {},
   "source": [
    "Like with positional arguments, though, **the number of arguments and parameters must still match**:"
   ]
  },
  {
   "cell_type": "code",
   "execution_count": null,
   "id": "86634dca",
   "metadata": {},
   "outputs": [],
   "source": [
    "function(quantity=6, item='bananas')"
   ]
  },
  {
   "cell_type": "markdown",
   "id": "d8faaceb",
   "metadata": {},
   "source": [
    "* <mark>So, keyword arguments allow flexibility in the order that function arguments are specified, but the number of arguments is still rigid.</mark>\n",
    "\n",
    "You can call a function using both positional and keyword arguments:"
   ]
  },
  {
   "cell_type": "code",
   "execution_count": null,
   "id": "f761cc9b",
   "metadata": {},
   "outputs": [],
   "source": [
    "function(6, price=1.74, item='bananas')"
   ]
  },
  {
   "cell_type": "code",
   "execution_count": null,
   "id": "1c69250b",
   "metadata": {},
   "outputs": [],
   "source": [
    "function(6, 'bananas', price=1.74)"
   ]
  },
  {
   "cell_type": "markdown",
   "id": "fdf2eda8",
   "metadata": {},
   "source": [
    "* **Note:** When positional and keyword arguments are both present, all the positional arguments must come first:"
   ]
  },
  {
   "cell_type": "code",
   "execution_count": null,
   "id": "167f7019",
   "metadata": {},
   "outputs": [],
   "source": [
    "function(6, item='bananas', 1.74)"
   ]
  },
  {
   "cell_type": "markdown",
   "id": "49b1d722",
   "metadata": {},
   "source": [
    "* <mark>**Note:** Once you’ve specified a keyword argument, there can’t be any positional arguments to the right of it.</mark>"
   ]
  },
  {
   "cell_type": "markdown",
   "id": "bab60296",
   "metadata": {},
   "source": [
    "### Default Parameters\n",
    "\n",
    "If a parameter specified in a Python function definition has the form ```<name>=<value>```, then ```<value>``` becomes a default value for that parameter. Parameters defined this way are referred to as default or optional parameters. An example of a function definition with default parameters is shown below:"
   ]
  },
  {
   "cell_type": "code",
   "execution_count": null,
   "id": "a152b3be",
   "metadata": {},
   "outputs": [],
   "source": [
    "def function(qty=6, item='bananas', price=1.74):\n",
    "    print(f'{qty} {item} cost ${price:.2f}')\n",
    "\n",
    "function()"
   ]
  },
  {
   "cell_type": "markdown",
   "id": "742bcd15",
   "metadata": {},
   "source": [
    "* When this version of ```function()``` is called, any argument that’s left out assumes its default value:"
   ]
  },
  {
   "cell_type": "code",
   "execution_count": null,
   "id": "fd620ef3",
   "metadata": {},
   "outputs": [],
   "source": [
    "function(4, 'apples', 2.24)"
   ]
  },
  {
   "cell_type": "code",
   "execution_count": null,
   "id": "dee5b7d7",
   "metadata": {},
   "outputs": [],
   "source": [
    "function(4, 'apples')"
   ]
  },
  {
   "cell_type": "code",
   "execution_count": null,
   "id": "2af7862b",
   "metadata": {},
   "outputs": [],
   "source": [
    "function(7)"
   ]
  },
  {
   "cell_type": "code",
   "execution_count": null,
   "id": "25b986b9",
   "metadata": {},
   "outputs": [],
   "source": [
    "function(item='kumquats', qty=9)"
   ]
  },
  {
   "cell_type": "markdown",
   "id": "e0861d16",
   "metadata": {},
   "source": [
    "**In summary:**\n",
    "\n",
    "* Positional arguments must agree in order and number with the parameters declared in the function definition.\n",
    "\n",
    "* Keyword arguments must agree with declared parameters in number, but they may be specified in arbitrary order.\n",
    "\n",
    "* Default parameters allow some arguments to be omitted when the function is called.\n"
   ]
  },
  {
   "cell_type": "markdown",
   "id": "2f8c4e26",
   "metadata": {},
   "source": [
    "### Arbitrary Arguments, ```*args```\n",
    "\n",
    "If you do not know how many arguments that will be passed into your function, add a ```*``` before the parameter name in the function definition.\n",
    "\n",
    "This way the function will receive a tuple of arguments, and can access the items accordingly:"
   ]
  },
  {
   "cell_type": "code",
   "execution_count": null,
   "id": "ae677ec6",
   "metadata": {},
   "outputs": [],
   "source": [
    "def function(*kids):\n",
    "    print(\"The youngest child is \" + kids[-1])\n",
    "\n",
    "function(\"Emil\", \"Tobias\", \"Linus\")"
   ]
  },
  {
   "cell_type": "markdown",
   "id": "e2c75b70",
   "metadata": {},
   "source": [
    "### Arbitrary Keyword Arguments, ```**kwargs```\n",
    "\n",
    "If you do not know how many keyword arguments that will be passed into your function, add two asterisk: ```**``` before the parameter name in the function definition.\n",
    "\n",
    "This way the function will receive a dictionary of arguments, and can access the items accordingly:"
   ]
  },
  {
   "cell_type": "code",
   "execution_count": null,
   "id": "ccdb388c",
   "metadata": {},
   "outputs": [],
   "source": [
    "def function(**identity):\n",
    "    a = list(identity.keys())\n",
    "    print(\"His name is: \" + identity[a[0]] + \" \" + identity[a[1]])\n",
    "\n",
    "function(first_name=\"joseph\", last_name=\"palmer\")"
   ]
  },
  {
   "cell_type": "markdown",
   "id": "5a4e383c",
   "metadata": {},
   "source": [
    "***\n",
    "# lambda\n",
    "***\n",
    "\n",
    "```lambda``` is a small, anonymous, single-line function wich we use instead of ```def``` in multiple conditions.\n",
    "\n",
    "for example take a look at the code below:"
   ]
  },
  {
   "cell_type": "code",
   "execution_count": null,
   "id": "f2a22583",
   "metadata": {},
   "outputs": [],
   "source": [
    "x = lambda a, b: a + b\n",
    "print(x(1, 2))\n",
    "\"or for further example:\"\n",
    "y = lambda a: a ** 2\n",
    "print(y(5))"
   ]
  },
  {
   "cell_type": "markdown",
   "id": "d694c907",
   "metadata": {},
   "source": [
    "by now we learned what ```lambda``` is,  but we can't distinguish the difference between defining a function by ```def``` expression or defining it by ```lambda```.\n",
    "\n",
    "## so why lambda? why not going on with def and use lambda?\n",
    "\n",
    "### the benfits of using lambda are:\n",
    "\n",
    "1. **when we use it anonymously. pay attention:**"
   ]
  },
  {
   "cell_type": "code",
   "execution_count": null,
   "id": "8b1767db",
   "metadata": {},
   "outputs": [],
   "source": [
    "def combined_power_function(n):\n",
    "    return lambda x: x ** n\n",
    "\n",
    "\n",
    "def simple_power_function(q, w):\n",
    "    return q ** w\n",
    "\n",
    "\n",
    "p = lambda m, n: m ** n\n",
    "\n",
    "power = combined_power_function(10)\n",
    "print(power(1))\n",
    "print(power(2))\n",
    "t = lambda z: z ** 10\n",
    "print(t(4))"
   ]
  },
  {
   "cell_type": "markdown",
   "id": "2db5bffd",
   "metadata": {},
   "source": [
    "2. **we can use them without binding them to a name. look at below:**"
   ]
  },
  {
   "cell_type": "code",
   "execution_count": null,
   "id": "916173ec",
   "metadata": {},
   "outputs": [],
   "source": [
    "print((lambda a, b: a + b)(5, 3))"
   ]
  },
  {
   "cell_type": "markdown",
   "id": "d649ff81",
   "metadata": {},
   "source": [
    "3. **we can define key for built-in python functions:**"
   ]
  },
  {
   "cell_type": "code",
   "execution_count": null,
   "id": "7a236f24",
   "metadata": {},
   "outputs": [],
   "source": [
    "print(sorted(range(-5, 6), key=lambda c: c ** 2))\n",
    "print(sorted(range(-5, 6)))"
   ]
  }
 ],
 "metadata": {
  "kernelspec": {
   "display_name": "Python 3 (ipykernel)",
   "language": "python",
   "name": "python3"
  },
  "language_info": {
   "codemirror_mode": {
    "name": "ipython",
    "version": 3
   },
   "file_extension": ".py",
   "mimetype": "text/x-python",
   "name": "python",
   "nbconvert_exporter": "python",
   "pygments_lexer": "ipython3",
   "version": "3.9.7"
  }
 },
 "nbformat": 4,
 "nbformat_minor": 5
}