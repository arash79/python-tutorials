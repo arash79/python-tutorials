{
 "cells": [
  {
   "cell_type": "code",
   "execution_count": 1,
   "id": "pending-catering",
   "metadata": {},
   "outputs": [
    {
     "data": {
      "text/plain": [
       "' what is lambda? lambda is a small, anonymous, single-line function wich we use instead of \"def\" in multiple conditions.'"
      ]
     },
     "execution_count": 1,
     "metadata": {},
     "output_type": "execute_result"
    }
   ],
   "source": [
    "''' what is lambda? lambda is a small, anonymous, single-line function wich we use instead of \"def\" in multiple conditions.'''"
   ]
  },
  {
   "cell_type": "code",
   "execution_count": 2,
   "id": "academic-event",
   "metadata": {},
   "outputs": [
    {
     "name": "stdout",
     "output_type": "stream",
     "text": [
      "3\n",
      "25\n"
     ]
    }
   ],
   "source": [
    "'''for example take a look at the code below'''\n",
    "x = lambda a, b: a + b\n",
    "print(x(1, 2))\n",
    "\"or for further example:\"\n",
    "y = lambda a: a ** 2\n",
    "print(y(5))"
   ]
  },
  {
   "cell_type": "code",
   "execution_count": 7,
   "id": "intensive-bernard",
   "metadata": {},
   "outputs": [
    {
     "name": "stdout",
     "output_type": "stream",
     "text": [
      "1\n",
      "1024\n",
      "1048576\n",
      "8\n",
      "[0, -1, 1, -2, 2, -3, 3, -4, 4, -5, 5]\n",
      "[-5, -4, -3, -2, -1, 0, 1, 2, 3, 4, 5]\n"
     ]
    }
   ],
   "source": [
    "'''by now we learned what lambda is but we can't distinguish the difference between defining a function by def expression or\n",
    "defining it by lambda. so why lambda? why not going on with def and use lambda? the benfits of using lambda is first:\n",
    "when we use it anonymously. pay attention:'''\n",
    "def power_function(n):\n",
    "    return lambda x: x ** n\n",
    "\n",
    "\n",
    "def powerr(q, w):\n",
    "    return q ** w\n",
    "\n",
    "p = lambda m, n: m ** n\n",
    "\n",
    "power = power_function(10)\n",
    "print(power(1))\n",
    "print(power(2))\n",
    "t = lambda z: z ** 10\n",
    "print(t(4))\n",
    "\n",
    "'''and second benefit is: we can use them without binding them to a name. look at below:'''\n",
    "\n",
    "print((lambda a, b: a + b)(5, 3))\n",
    "\n",
    "'''and the third major benefit is we can define key for inbuilt python functions:'''\n",
    "\n",
    "print(sorted(range(-5, 6), key=lambda c: c ** 2))\n",
    "print(sorted(range(-5, 6)))"
   ]
  },
  {
   "cell_type": "code",
   "execution_count": null,
   "id": "distinguished-width",
   "metadata": {},
   "outputs": [],
   "source": []
  }
 ],
 "metadata": {
  "kernelspec": {
   "display_name": "Python 3",
   "language": "python",
   "name": "python3"
  },
  "language_info": {
   "codemirror_mode": {
    "name": "ipython",
    "version": 3
   },
   "file_extension": ".py",
   "mimetype": "text/x-python",
   "name": "python",
   "nbconvert_exporter": "python",
   "pygments_lexer": "ipython3",
   "version": "3.9.1"
  }
 },
 "nbformat": 4,
 "nbformat_minor": 5
}
