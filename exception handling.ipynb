{
 "cells": [
  {
   "cell_type": "markdown",
   "id": "92190481",
   "metadata": {},
   "source": [
    "***\n",
    "# Exception Handling\n",
    "***\n",
    "\n",
    "when we are programming even if all syntaxes are correct we may face some error after we execute it. these error can vary for example we may end up with a zero division error or a type error and etc.we call these error exceptions and we can handle them and run an errorless program with a method that we call exception handling.\n",
    "\n",
    "Exceptions are unexpected events that occur during the execution of a program. An exception might result from a logical error or an unanticipated situation. In Python, exceptions (also known as errors) are objects that are raised (or thrown) by\n",
    "code that encounters an unexpected circumstance. The Python interpreter can also raise an exception should it encounter an unexpected condition, like running out of memory.\n",
    "\n",
    "A raised error may be caught by a surrounding context that “handles” the exception in an appropriate fashion. If uncaught, an exception causes the interpreter to stop executing the program and to report an appropriate message to the console.\n",
    "In this section, we examine the most common error types in Python, the mechanism for catching and handling errors that have been raised, and the syntax for raising errors from within user-defined blocks of code."
   ]
  },
  {
   "cell_type": "markdown",
   "id": "72e66cd1",
   "metadata": {},
   "source": [
    "## Raising an Exception\n",
    "\n",
    "We can use ```raise``` to throw an exception if a condition occurs. The statement can be complemented with a custom exception."
   ]
  },
  {
   "cell_type": "markdown",
   "id": "5a68112e",
   "metadata": {},
   "source": [
    "<div>\n",
    "<img src=\"https://files.realpython.com/media/raise.3931e8819e08.png\" width=\"450\"/>\n",
    "</div>"
   ]
  },
  {
   "cell_type": "markdown",
   "id": "17ff33d5",
   "metadata": {},
   "source": [
    "If you want to throw an error when a certain condition occurs using ```raise```, you could go about it like this:"
   ]
  },
  {
   "cell_type": "code",
   "execution_count": 13,
   "id": "11eb5111",
   "metadata": {},
   "outputs": [
    {
     "ename": "Exception",
     "evalue": "x should not exceed 5. The value of x was: 10",
     "output_type": "error",
     "traceback": [
      "\u001b[1;31m---------------------------------------------------------------------------\u001b[0m",
      "\u001b[1;31mException\u001b[0m                                 Traceback (most recent call last)",
      "\u001b[1;32m~\\AppData\\Local\\Temp/ipykernel_10732/1588458212.py\u001b[0m in \u001b[0;36m<module>\u001b[1;34m\u001b[0m\n\u001b[0;32m      1\u001b[0m \u001b[0mx\u001b[0m \u001b[1;33m=\u001b[0m \u001b[1;36m10\u001b[0m\u001b[1;33m\u001b[0m\u001b[1;33m\u001b[0m\u001b[0m\n\u001b[0;32m      2\u001b[0m \u001b[1;32mif\u001b[0m \u001b[0mx\u001b[0m \u001b[1;33m>\u001b[0m \u001b[1;36m5\u001b[0m\u001b[1;33m:\u001b[0m\u001b[1;33m\u001b[0m\u001b[1;33m\u001b[0m\u001b[0m\n\u001b[1;32m----> 3\u001b[1;33m     \u001b[1;32mraise\u001b[0m \u001b[0mException\u001b[0m\u001b[1;33m(\u001b[0m\u001b[1;34m'x should not exceed 5. The value of x was: {}'\u001b[0m\u001b[1;33m.\u001b[0m\u001b[0mformat\u001b[0m\u001b[1;33m(\u001b[0m\u001b[0mx\u001b[0m\u001b[1;33m)\u001b[0m\u001b[1;33m)\u001b[0m\u001b[1;33m\u001b[0m\u001b[1;33m\u001b[0m\u001b[0m\n\u001b[0m",
      "\u001b[1;31mException\u001b[0m: x should not exceed 5. The value of x was: 10"
     ]
    }
   ],
   "source": [
    "x = 10\n",
    "if x > 5:\n",
    "    raise Exception('x should not exceed 5. The value of x was: {}'.format(x))"
   ]
  },
  {
   "cell_type": "markdown",
   "id": "919da897",
   "metadata": {},
   "source": [
    "## The AssertionError Exception\n",
    "\n",
    "Instead of waiting for a program to crash midway, you can also start by making an assertion in Python. We ```assert``` that a certain condition is met. If this condition turns out to be ```True```, then that is excellent! The program can continue. If the condition turns out to be ```False```, you can have the program throw an ```AssertionError``` exception."
   ]
  },
  {
   "cell_type": "markdown",
   "id": "02693ade",
   "metadata": {},
   "source": [
    "<div>\n",
    "<img src=\"https://files.realpython.com/media/assert.f6d344f0c0b4.png\" width=\"450\"/>\n",
    "</div>"
   ]
  },
  {
   "cell_type": "code",
   "execution_count": 15,
   "id": "428a6fe6",
   "metadata": {},
   "outputs": [
    {
     "name": "stdout",
     "output_type": "stream",
     "text": [
      "please enter a number: tea\n"
     ]
    },
    {
     "ename": "AssertionError",
     "evalue": "",
     "output_type": "error",
     "traceback": [
      "\u001b[1;31m---------------------------------------------------------------------------\u001b[0m",
      "\u001b[1;31mAssertionError\u001b[0m                            Traceback (most recent call last)",
      "\u001b[1;32m~\\AppData\\Local\\Temp/ipykernel_10732/3804632992.py\u001b[0m in \u001b[0;36m<module>\u001b[1;34m\u001b[0m\n\u001b[0;32m      1\u001b[0m \u001b[0mnumber\u001b[0m \u001b[1;33m=\u001b[0m \u001b[0minput\u001b[0m\u001b[1;33m(\u001b[0m\u001b[1;34m\"please enter a number: \"\u001b[0m\u001b[1;33m)\u001b[0m\u001b[1;33m\u001b[0m\u001b[1;33m\u001b[0m\u001b[0m\n\u001b[1;32m----> 2\u001b[1;33m \u001b[1;32massert\u001b[0m \u001b[0mnumber\u001b[0m\u001b[1;33m.\u001b[0m\u001b[0misdigit\u001b[0m\u001b[1;33m(\u001b[0m\u001b[1;33m)\u001b[0m \u001b[1;32mis\u001b[0m \u001b[1;32mTrue\u001b[0m\u001b[1;33m\u001b[0m\u001b[1;33m\u001b[0m\u001b[0m\n\u001b[0m",
      "\u001b[1;31mAssertionError\u001b[0m: "
     ]
    }
   ],
   "source": [
    "number = input(\"please enter a number: \")\n",
    "assert number.isdigit() is True"
   ]
  },
  {
   "cell_type": "markdown",
   "id": "1a947ef5",
   "metadata": {},
   "source": [
    "## The ```try``` and ```except``` Block:\n",
    "\n",
    "The ```try``` and ```except``` block in Python is used to catch and handle exceptions. Python executes code following the ```try``` statement as a “normal” part of the program. The code that follows the ```except``` statement is the program’s response to any exceptions in the preceding try clause."
   ]
  },
  {
   "cell_type": "markdown",
   "id": "73395c8f",
   "metadata": {},
   "source": [
    "<div>\n",
    "<img src=\"https://files.realpython.com/media/try_except.c94eabed2c59.png\" width=\"450\"/>\n",
    "</div>"
   ]
  },
  {
   "cell_type": "markdown",
   "id": "7725da11",
   "metadata": {},
   "source": [
    "when syntactically correct code runs into an error, Python will throw an exception error. This exception error will crash the program if it is unhandled. The except clause determines how your program responds to exceptions.\n",
    "\n",
    "take a look at the example below:"
   ]
  },
  {
   "cell_type": "code",
   "execution_count": 9,
   "id": "06fbf7f3",
   "metadata": {},
   "outputs": [
    {
     "name": "stdout",
     "output_type": "stream",
     "text": [
      "please enter your first number: 12\n",
      "please enter your second number: \n",
      "Error! you should enter a number not other data types.\n"
     ]
    }
   ],
   "source": [
    "a = input(\"please enter your first number: \")\n",
    "b = input(\"please enter your second number: \")\n",
    "try:\n",
    "    c = int(a) / int(b)\n",
    "    print(c)\n",
    "except ZeroDivisionError:\n",
    "    print(\"Error! second number is zero.\")\n",
    "except ValueError:\n",
    "    print(\"Error! you should enter a number not other data types.\")"
   ]
  },
  {
   "cell_type": "markdown",
   "id": "6075dc47",
   "metadata": {},
   "source": [
    "## The ```else``` Clause\n",
    "\n",
    "In Python, using the ```else``` statement, you can instruct a program to execute a certain block of code only in the absence of exceptions."
   ]
  },
  {
   "cell_type": "markdown",
   "id": "43271d5e",
   "metadata": {},
   "source": [
    "<div>\n",
    "<img src=\"https://files.realpython.com/media/try_except_else.703aaeeb63d3.png\" width=450/>\n",
    "</div>"
   ]
  },
  {
   "cell_type": "markdown",
   "id": "a34ddc08",
   "metadata": {},
   "source": [
    "* consider the code below:"
   ]
  },
  {
   "cell_type": "code",
   "execution_count": 10,
   "id": "572efc75",
   "metadata": {},
   "outputs": [
    {
     "name": "stdout",
     "output_type": "stream",
     "text": [
      "please enter your first number: 12\n",
      "please enter your second number: 4\n",
      "3.0\n",
      "wow! no exception has occured.\n"
     ]
    }
   ],
   "source": [
    "a = input(\"please enter your first number: \")\n",
    "b = input(\"please enter your second number: \")\n",
    "try:\n",
    "    c = int(a) / int(b)\n",
    "    print(c)\n",
    "except ZeroDivisionError:\n",
    "    print(\"Error! second number is zero.\")\n",
    "except ValueError:\n",
    "    print(\"Error! you should enter a number not other data types.\")\n",
    "else:\n",
    "    print(\"wow! no exception has occured.\")"
   ]
  },
  {
   "cell_type": "markdown",
   "id": "b67725dc",
   "metadata": {},
   "source": [
    "## Cleaning Up After Using ```finally```\n",
    "\n",
    "Imagine that you always had to implement some sort of action to clean up after executing your code. Python enables you to do so using the ```finally``` clause."
   ]
  },
  {
   "cell_type": "markdown",
   "id": "bda84947",
   "metadata": {},
   "source": [
    "<div>\n",
    "<img src=\"https://files.realpython.com/media/try_except_else_finally.a7fac6c36c55.png\" width=450/>\n",
    "</div>"
   ]
  },
  {
   "cell_type": "markdown",
   "id": "b778980f",
   "metadata": {},
   "source": [
    "* Have a look at the following example:"
   ]
  },
  {
   "cell_type": "code",
   "execution_count": 12,
   "id": "5981e1f0",
   "metadata": {},
   "outputs": [
    {
     "name": "stdout",
     "output_type": "stream",
     "text": [
      "please enter your first number: 7\n",
      "please enter your second number: 0\n",
      "Error! second number is zero.\n",
      "cleaning up, irrespective of any exceptions.\n"
     ]
    }
   ],
   "source": [
    "a = input(\"please enter your first number: \")\n",
    "b = input(\"please enter your second number: \")\n",
    "try:\n",
    "    c = int(a) / int(b)\n",
    "    print(c)\n",
    "except ZeroDivisionError:\n",
    "    print(\"Error! second number is zero.\")\n",
    "except ValueError:\n",
    "    print(\"Error! you should enter a number not other data types.\")\n",
    "else:\n",
    "    print(\"wow! no exception has occured.\")\n",
    "finally:\n",
    "     print(\"cleaning up, irrespective of any exceptions.\")"
   ]
  },
  {
   "cell_type": "markdown",
   "id": "92ffcd42",
   "metadata": {},
   "source": [
    "## frequent types of errors in python:\n",
    "\n",
    "1. ```NameErorr```: it its caused when something is used withoud being defined earlier in the code."
   ]
  },
  {
   "cell_type": "code",
   "execution_count": 16,
   "id": "ad6a6f12",
   "metadata": {},
   "outputs": [
    {
     "ename": "NameError",
     "evalue": "name 'n' is not defined",
     "output_type": "error",
     "traceback": [
      "\u001b[1;31m---------------------------------------------------------------------------\u001b[0m",
      "\u001b[1;31mNameError\u001b[0m                                 Traceback (most recent call last)",
      "\u001b[1;32m~\\AppData\\Local\\Temp/ipykernel_10732/1866289394.py\u001b[0m in \u001b[0;36m<module>\u001b[1;34m\u001b[0m\n\u001b[1;32m----> 1\u001b[1;33m \u001b[0mprint\u001b[0m\u001b[1;33m(\u001b[0m\u001b[0mn\u001b[0m \u001b[1;33m/\u001b[0m \u001b[1;36m10\u001b[0m\u001b[1;33m)\u001b[0m\u001b[1;33m\u001b[0m\u001b[1;33m\u001b[0m\u001b[0m\n\u001b[0m",
      "\u001b[1;31mNameError\u001b[0m: name 'n' is not defined"
     ]
    }
   ],
   "source": [
    "print(n / 10)"
   ]
  },
  {
   "cell_type": "markdown",
   "id": "e883da69",
   "metadata": {},
   "source": [
    "2. ```SyntaxError```: is caused by misspelling syntaxes name."
   ]
  },
  {
   "cell_type": "code",
   "execution_count": 17,
   "id": "c410f504",
   "metadata": {},
   "outputs": [
    {
     "ename": "SyntaxError",
     "evalue": "invalid syntax (Temp/ipykernel_10732/4094406236.py, line 2)",
     "output_type": "error",
     "traceback": [
      "\u001b[1;36m  File \u001b[1;32m\"C:\\Users\\User\\AppData\\Local\\Temp/ipykernel_10732/4094406236.py\"\u001b[1;36m, line \u001b[1;32m2\u001b[0m\n\u001b[1;33m    iff g % 2 == 0:\u001b[0m\n\u001b[1;37m        ^\u001b[0m\n\u001b[1;31mSyntaxError\u001b[0m\u001b[1;31m:\u001b[0m invalid syntax\n"
     ]
    }
   ],
   "source": [
    "g = 3\n",
    "iff g % 2 == 0:\n",
    "    print(\"is even.\")\n",
    "else:\n",
    "    print(\"is odd.\")"
   ]
  },
  {
   "cell_type": "markdown",
   "id": "7da21123",
   "metadata": {},
   "source": [
    "3. ```ZeroDivisionError```:it occures by dividing a number by zero."
   ]
  },
  {
   "cell_type": "code",
   "execution_count": 19,
   "id": "9ad90352",
   "metadata": {},
   "outputs": [
    {
     "ename": "ZeroDivisionError",
     "evalue": "division by zero",
     "output_type": "error",
     "traceback": [
      "\u001b[1;31m---------------------------------------------------------------------------\u001b[0m",
      "\u001b[1;31mZeroDivisionError\u001b[0m                         Traceback (most recent call last)",
      "\u001b[1;32m~\\AppData\\Local\\Temp/ipykernel_10732/1152173066.py\u001b[0m in \u001b[0;36m<module>\u001b[1;34m\u001b[0m\n\u001b[1;32m----> 1\u001b[1;33m \u001b[0mprint\u001b[0m\u001b[1;33m(\u001b[0m\u001b[1;36m5\u001b[0m\u001b[1;33m/\u001b[0m\u001b[1;36m0\u001b[0m\u001b[1;33m)\u001b[0m\u001b[1;33m\u001b[0m\u001b[1;33m\u001b[0m\u001b[0m\n\u001b[0m",
      "\u001b[1;31mZeroDivisionError\u001b[0m: division by zero"
     ]
    }
   ],
   "source": [
    "print(5/0)"
   ]
  },
  {
   "cell_type": "markdown",
   "id": "9c3a1619",
   "metadata": {},
   "source": [
    "4. ```ModuleNotFoundError```: it happens by importing a non-existent module. it's also called ```ImportError```."
   ]
  },
  {
   "cell_type": "code",
   "execution_count": 20,
   "id": "11a969fa",
   "metadata": {},
   "outputs": [
    {
     "ename": "ModuleNotFoundError",
     "evalue": "No module named 'herbal_tea'",
     "output_type": "error",
     "traceback": [
      "\u001b[1;31m---------------------------------------------------------------------------\u001b[0m",
      "\u001b[1;31mModuleNotFoundError\u001b[0m                       Traceback (most recent call last)",
      "\u001b[1;32m~\\AppData\\Local\\Temp/ipykernel_10732/1921316196.py\u001b[0m in \u001b[0;36m<module>\u001b[1;34m\u001b[0m\n\u001b[1;32m----> 1\u001b[1;33m \u001b[1;32mimport\u001b[0m \u001b[0mherbal_tea\u001b[0m\u001b[1;33m\u001b[0m\u001b[1;33m\u001b[0m\u001b[0m\n\u001b[0m",
      "\u001b[1;31mModuleNotFoundError\u001b[0m: No module named 'herbal_tea'"
     ]
    }
   ],
   "source": [
    "import herbal_tea"
   ]
  },
  {
   "cell_type": "markdown",
   "id": "f4c50fe0",
   "metadata": {},
   "source": [
    "5. ```IndexError```: it's due to a non-existent index in an array."
   ]
  },
  {
   "cell_type": "code",
   "execution_count": 21,
   "id": "2fea029a",
   "metadata": {},
   "outputs": [
    {
     "name": "stdout",
     "output_type": "stream",
     "text": [
      "apple\n"
     ]
    },
    {
     "ename": "IndexError",
     "evalue": "list index out of range",
     "output_type": "error",
     "traceback": [
      "\u001b[1;31m---------------------------------------------------------------------------\u001b[0m",
      "\u001b[1;31mIndexError\u001b[0m                                Traceback (most recent call last)",
      "\u001b[1;32m~\\AppData\\Local\\Temp/ipykernel_10732/3506994160.py\u001b[0m in \u001b[0;36m<module>\u001b[1;34m\u001b[0m\n\u001b[0;32m      1\u001b[0m \u001b[0mx\u001b[0m \u001b[1;33m=\u001b[0m \u001b[1;33m[\u001b[0m\u001b[1;34m\"apple\"\u001b[0m\u001b[1;33m,\u001b[0m \u001b[1;34m\"samsung\"\u001b[0m\u001b[1;33m,\u001b[0m \u001b[1;34m\"lg\"\u001b[0m\u001b[1;33m,\u001b[0m \u001b[1;34m\"xiaomi\"\u001b[0m\u001b[1;33m]\u001b[0m\u001b[1;33m\u001b[0m\u001b[1;33m\u001b[0m\u001b[0m\n\u001b[0;32m      2\u001b[0m \u001b[0mprint\u001b[0m\u001b[1;33m(\u001b[0m\u001b[0mx\u001b[0m\u001b[1;33m[\u001b[0m\u001b[1;36m0\u001b[0m\u001b[1;33m]\u001b[0m\u001b[1;33m)\u001b[0m\u001b[1;33m\u001b[0m\u001b[1;33m\u001b[0m\u001b[0m\n\u001b[1;32m----> 3\u001b[1;33m \u001b[0mprint\u001b[0m\u001b[1;33m(\u001b[0m\u001b[0mx\u001b[0m\u001b[1;33m[\u001b[0m\u001b[1;36m5\u001b[0m\u001b[1;33m]\u001b[0m\u001b[1;33m)\u001b[0m\u001b[1;33m\u001b[0m\u001b[1;33m\u001b[0m\u001b[0m\n\u001b[0m",
      "\u001b[1;31mIndexError\u001b[0m: list index out of range"
     ]
    }
   ],
   "source": [
    "x = [\"apple\", \"samsung\", \"lg\", \"xiaomi\"]\n",
    "print(x[0])\n",
    "print(x[5])"
   ]
  },
  {
   "cell_type": "markdown",
   "id": "6c1193c1",
   "metadata": {},
   "source": [
    "6. ```RuntimeError```: they are commonly referred to as \"bugs\" and we ought to find them through a process called \"debugging\".  so unfortunately we can't provide any example for this type of error but you will confront with it alot. 😄"
   ]
  },
  {
   "cell_type": "markdown",
   "id": "f212151d",
   "metadata": {},
   "source": [
    "7. ```TypeError```: is raised when we apply a non-correct data type to an operator or function."
   ]
  },
  {
   "cell_type": "code",
   "execution_count": 22,
   "id": "ec331b53",
   "metadata": {},
   "outputs": [
    {
     "ename": "TypeError",
     "evalue": "unsupported operand type(s) for -: 'str' and 'str'",
     "output_type": "error",
     "traceback": [
      "\u001b[1;31m---------------------------------------------------------------------------\u001b[0m",
      "\u001b[1;31mTypeError\u001b[0m                                 Traceback (most recent call last)",
      "\u001b[1;32m~\\AppData\\Local\\Temp/ipykernel_10732/1350706507.py\u001b[0m in \u001b[0;36m<module>\u001b[1;34m\u001b[0m\n\u001b[1;32m----> 1\u001b[1;33m \u001b[0mprint\u001b[0m\u001b[1;33m(\u001b[0m\u001b[1;34m\"18\"\u001b[0m \u001b[1;33m-\u001b[0m \u001b[1;34m\"12\"\u001b[0m\u001b[1;33m)\u001b[0m\u001b[1;33m\u001b[0m\u001b[1;33m\u001b[0m\u001b[0m\n\u001b[0m",
      "\u001b[1;31mTypeError\u001b[0m: unsupported operand type(s) for -: 'str' and 'str'"
     ]
    }
   ],
   "source": [
    "print(\"18\" - \"12\")"
   ]
  },
  {
   "cell_type": "markdown",
   "id": "41eec604",
   "metadata": {},
   "source": [
    "8. ```ValueError```: it happens when we apply a correct data type to an operator or function BUT it has a wrong value."
   ]
  },
  {
   "cell_type": "code",
   "execution_count": 23,
   "id": "bf763e0a",
   "metadata": {},
   "outputs": [
    {
     "ename": "ValueError",
     "evalue": "invalid literal for int() with base 10: 'basketball'",
     "output_type": "error",
     "traceback": [
      "\u001b[1;31m---------------------------------------------------------------------------\u001b[0m",
      "\u001b[1;31mValueError\u001b[0m                                Traceback (most recent call last)",
      "\u001b[1;32m~\\AppData\\Local\\Temp/ipykernel_10732/3703718880.py\u001b[0m in \u001b[0;36m<module>\u001b[1;34m\u001b[0m\n\u001b[1;32m----> 1\u001b[1;33m \u001b[0mprint\u001b[0m\u001b[1;33m(\u001b[0m\u001b[0mint\u001b[0m\u001b[1;33m(\u001b[0m\u001b[1;34m\"basketball\"\u001b[0m\u001b[1;33m)\u001b[0m\u001b[1;33m)\u001b[0m\u001b[1;33m\u001b[0m\u001b[1;33m\u001b[0m\u001b[0m\n\u001b[0m",
      "\u001b[1;31mValueError\u001b[0m: invalid literal for int() with base 10: 'basketball'"
     ]
    }
   ],
   "source": [
    "print(int(\"basketball\"))"
   ]
  },
  {
   "cell_type": "markdown",
   "id": "57bc490d",
   "metadata": {},
   "source": [
    "9. ```KeyError```: is thrown when the dictionary does not include a specific key."
   ]
  },
  {
   "cell_type": "code",
   "execution_count": 25,
   "id": "653d00ca",
   "metadata": {},
   "outputs": [
    {
     "ename": "KeyError",
     "evalue": "'sarah'",
     "output_type": "error",
     "traceback": [
      "\u001b[1;31m---------------------------------------------------------------------------\u001b[0m",
      "\u001b[1;31mKeyError\u001b[0m                                  Traceback (most recent call last)",
      "\u001b[1;32m~\\AppData\\Local\\Temp/ipykernel_10732/3683022433.py\u001b[0m in \u001b[0;36m<module>\u001b[1;34m\u001b[0m\n\u001b[0;32m      1\u001b[0m \u001b[0md\u001b[0m \u001b[1;33m=\u001b[0m \u001b[1;33m{\u001b[0m\u001b[1;34m\"brad\"\u001b[0m\u001b[1;33m:\u001b[0m \u001b[1;36m18\u001b[0m\u001b[1;33m,\u001b[0m \u001b[1;34m\"paul\"\u001b[0m\u001b[1;33m:\u001b[0m \u001b[1;36m14\u001b[0m\u001b[1;33m,\u001b[0m \u001b[1;34m\"alexa\"\u001b[0m\u001b[1;33m:\u001b[0m \u001b[1;36m19\u001b[0m\u001b[1;33m}\u001b[0m\u001b[1;33m\u001b[0m\u001b[1;33m\u001b[0m\u001b[0m\n\u001b[1;32m----> 2\u001b[1;33m \u001b[0mprint\u001b[0m\u001b[1;33m(\u001b[0m\u001b[0md\u001b[0m\u001b[1;33m[\u001b[0m\u001b[1;34m\"sarah\"\u001b[0m\u001b[1;33m]\u001b[0m\u001b[1;33m)\u001b[0m\u001b[1;33m\u001b[0m\u001b[1;33m\u001b[0m\u001b[0m\n\u001b[0m",
      "\u001b[1;31mKeyError\u001b[0m: 'sarah'"
     ]
    }
   ],
   "source": [
    "d = {\"brad\": 18, \"paul\": 14, \"alexa\": 19}\n",
    "print(d[\"sarah\"])"
   ]
  },
  {
   "cell_type": "markdown",
   "id": "e189fb6c",
   "metadata": {},
   "source": [
    "10. ```EOFError```: caused when ```input()``` function hits the end of file unexpectedly. sadly we can not provide any example."
   ]
  },
  {
   "cell_type": "markdown",
   "id": "40dcd075",
   "metadata": {},
   "source": [
    "11. ```StopIteration```: arises when an iterator goes beyond the item length."
   ]
  },
  {
   "cell_type": "code",
   "execution_count": 28,
   "id": "4e8ed0b1",
   "metadata": {},
   "outputs": [
    {
     "name": "stdout",
     "output_type": "stream",
     "text": [
      "python\n",
      "java\n",
      "c++\n"
     ]
    },
    {
     "ename": "StopIteration",
     "evalue": "",
     "output_type": "error",
     "traceback": [
      "\u001b[1;31m---------------------------------------------------------------------------\u001b[0m",
      "\u001b[1;31mStopIteration\u001b[0m                             Traceback (most recent call last)",
      "\u001b[1;32m~\\AppData\\Local\\Temp/ipykernel_10732/837781387.py\u001b[0m in \u001b[0;36m<module>\u001b[1;34m\u001b[0m\n\u001b[0;32m      3\u001b[0m \u001b[0mprint\u001b[0m\u001b[1;33m(\u001b[0m\u001b[0mnext\u001b[0m\u001b[1;33m(\u001b[0m\u001b[0mv\u001b[0m\u001b[1;33m)\u001b[0m\u001b[1;33m)\u001b[0m\u001b[1;33m\u001b[0m\u001b[1;33m\u001b[0m\u001b[0m\n\u001b[0;32m      4\u001b[0m \u001b[0mprint\u001b[0m\u001b[1;33m(\u001b[0m\u001b[0mnext\u001b[0m\u001b[1;33m(\u001b[0m\u001b[0mv\u001b[0m\u001b[1;33m)\u001b[0m\u001b[1;33m)\u001b[0m\u001b[1;33m\u001b[0m\u001b[1;33m\u001b[0m\u001b[0m\n\u001b[1;32m----> 5\u001b[1;33m \u001b[0mprint\u001b[0m\u001b[1;33m(\u001b[0m\u001b[0mnext\u001b[0m\u001b[1;33m(\u001b[0m\u001b[0mv\u001b[0m\u001b[1;33m)\u001b[0m\u001b[1;33m)\u001b[0m\u001b[1;33m\u001b[0m\u001b[1;33m\u001b[0m\u001b[0m\n\u001b[0m",
      "\u001b[1;31mStopIteration\u001b[0m: "
     ]
    }
   ],
   "source": [
    "v = iter([\"python\", \"java\", \"c++\"])\n",
    "print(next(v))\n",
    "print(next(v))\n",
    "print(next(v))\n",
    "print(next(v))"
   ]
  }
 ],
 "metadata": {
  "kernelspec": {
   "display_name": "Python 3 (ipykernel)",
   "language": "python",
   "name": "python3"
  },
  "language_info": {
   "codemirror_mode": {
    "name": "ipython",
    "version": 3
   },
   "file_extension": ".py",
   "mimetype": "text/x-python",
   "name": "python",
   "nbconvert_exporter": "python",
   "pygments_lexer": "ipython3",
   "version": "3.9.7"
  }
 },
 "nbformat": 4,
 "nbformat_minor": 5
}
