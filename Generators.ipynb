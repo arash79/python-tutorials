{
 "cells": [
  {
   "cell_type": "markdown",
   "id": "7fa742b3",
   "metadata": {},
   "source": [
    "# Generators\n",
    "\n",
    "generator functions are a special kind of function that return a lazy iterator. These are objects that you can loop over like a list. However, unlike lists, lazy iterators do not store their contents in memory.\n"
   ]
  },
  {
   "cell_type": "markdown",
   "id": "afb1a212",
   "metadata": {},
   "source": [
    "<div>\n",
    "<img src=\"https://imgs.developpaper.com/imgs/2394519021-5b755f7d3ed98_articlex.png\" width=\"500\"/>\n",
    "</div>"
   ]
  },
  {
   "cell_type": "markdown",
   "id": "78bcd305",
   "metadata": {},
   "source": [
    "## Understanding Generators\n",
    "\n",
    "Generator functions look and act just like regular functions, but with one defining characteristic. Generator functions use the Python ```yield``` keyword instead of return. \n",
    "\n",
    "Let’s take a look at one examples.\n"
   ]
  },
  {
   "cell_type": "code",
   "execution_count": 2,
   "id": "73e1bef8",
   "metadata": {},
   "outputs": [
    {
     "name": "stdout",
     "output_type": "stream",
     "text": [
      "[0, 1, 2, 3, 4, 5, 6, 7, 8, 9]\n"
     ]
    }
   ],
   "source": [
    "def sequence(n):\n",
    "    num = 0\n",
    "    while num < n:\n",
    "        yield num\n",
    "        num += 1\n",
    "\n",
    "print(list(sequence(10)))  # returns an address, you can use list() function to convert it to a list"
   ]
  },
  {
   "cell_type": "markdown",
   "id": "2b3facd2",
   "metadata": {},
   "source": [
    "This looks like a typical function definition, except for the Python ```yield``` statement and the code that follows it. ```yield``` indicates where a value is sent back to the caller, but <mark>**unlike ```return```, you don’t exit the function afterward.**</mark>\n",
    "\n",
    "Instead, the state of the function is remembered. That way, when ```next()``` is called on a generator object (either explicitly or implicitly within a for loop), the previously yielded variable ```num``` is incremented, and then yielded again. \n",
    "\n",
    "Since generator functions look like other functions and act very similarly to them, you can assume that generator expressions are very similar to other comprehensions available in Python."
   ]
  },
  {
   "cell_type": "code",
   "execution_count": 3,
   "id": "0140b637",
   "metadata": {},
   "outputs": [],
   "source": [
    "nums_squared_lc = [num**2 for num in range(5)]\n",
    "nums_squared_gc = (num**2 for num in range(5))"
   ]
  },
  {
   "cell_type": "markdown",
   "id": "5b295fdb",
   "metadata": {},
   "source": [
    "Both ```nums_squared_lc``` and ```nums_squared_gc``` look basically the same, but there’s one key difference. Can you spot it?\n",
    "\n",
    "Take a look at what happens when you inspect each of these objects:"
   ]
  },
  {
   "cell_type": "code",
   "execution_count": 4,
   "id": "48299a0f",
   "metadata": {},
   "outputs": [
    {
     "name": "stdout",
     "output_type": "stream",
     "text": [
      "[0, 1, 4, 9, 16]\n",
      "<generator object <genexpr> at 0x00000206C179D430>\n"
     ]
    }
   ],
   "source": [
    "print(nums_squared_lc)\n",
    "print(nums_squared_gc)"
   ]
  },
  {
   "cell_type": "markdown",
   "id": "bf7678f9",
   "metadata": {},
   "source": [
    "The first object used brackets to build a list, while the second created a generator expression by using parentheses. The output confirms that you’ve created a generator object and that it is distinct from a list."
   ]
  },
  {
   "cell_type": "markdown",
   "id": "3250c2f4",
   "metadata": {},
   "source": [
    "## Understanding the Python Yield Statement\n",
    "\n",
    "On the whole, yield is a fairly simple statement. Its primary job is to control the flow of a generator function in a way that’s similar to ```return``` statements. As briefly mentioned above, though, the Python ```yield``` statement has a few tricks up its sleeve.\n",
    "\n",
    "When you call a generator function or use a generator expression, you return a special iterator called a generator. You can assign this generator to a variable in order to use it. When you call special methods on the generator, such as ```next()```, the code within the function is executed up to yield.\n",
    "\n",
    "When the Python ```yield``` statement is hit, the program suspends function execution and returns the yielded value to the caller. <mark>**In contrast, return stops function execution completely.**</mark> When a function is suspended, the state of that function is saved. This includes any variable bindings local to the generator, the instruction pointer, the internal stack, and any exception handling.\n",
    "\n",
    "This allows you to resume function execution whenever you call one of the generator’s methods. In this way, all function evaluation picks back up right after yield. You can see this in action by using multiple Python yield statements:"
   ]
  },
  {
   "cell_type": "code",
   "execution_count": 6,
   "id": "d5b34d90",
   "metadata": {},
   "outputs": [
    {
     "name": "stdout",
     "output_type": "stream",
     "text": [
      "<generator object simple_generator at 0x00000206C179D820>\n",
      "1\n",
      "2\n",
      "3\n"
     ]
    }
   ],
   "source": [
    "def simple_generator():\n",
    "    yield 1\n",
    "    yield 2\n",
    "    yield 3\n",
    "   \n",
    "# x is a generator object\n",
    "\n",
    "print(x)\n",
    "# Iterating over the generator object using next\n",
    "print(next(x))\n",
    "print(next(x))\n",
    "print(next(x))"
   ]
  },
  {
   "cell_type": "code",
   "execution_count": 5,
   "id": "27980f05",
   "metadata": {},
   "outputs": [
    {
     "name": "stdout",
     "output_type": "stream",
     "text": [
      "1\n",
      "2\n",
      "3\n"
     ]
    }
   ],
   "source": [
    "a = [1, 2, 3, 4, 5]\n",
    "b = iter(a)\n",
    "print(next(b))\n",
    "print(next(b))\n",
    "print(next(b))"
   ]
  },
  {
   "cell_type": "markdown",
   "id": "e690e671",
   "metadata": {},
   "source": [
    "**Note:** So a generator function returns an generator object that is iterable, so it can be used as an Iterator.\n",
    "\n",
    "### Example \n",
    "\n",
    "As another example, below is a generator for Fibonacci Numbers:"
   ]
  },
  {
   "cell_type": "code",
   "execution_count": 8,
   "id": "31667dc7",
   "metadata": {},
   "outputs": [
    {
     "name": "stdout",
     "output_type": "stream",
     "text": [
      "1\n",
      "1\n",
      "2\n",
      "3\n",
      "5\n",
      "\n",
      "Using 'for in' loop:\n",
      "1\n",
      "1\n",
      "2\n",
      "3\n",
      "5\n"
     ]
    }
   ],
   "source": [
    "def fib(n):\n",
    "    i = 0  # counter\n",
    "    a, b = 1, 1  # Initialize first two Fibonacci Numbers\n",
    "    while i < n:  # One by one yield next Fibonacci Number\n",
    "        yield a\n",
    "        a, b = b, a + b\n",
    "        i += 1\n",
    "\n",
    "# Create a generator object\n",
    "x = fib(5)\n",
    "\n",
    "# Iterating over the generator object using next\n",
    "print(next(x))\n",
    "print(next(x))\n",
    "print(next(x))\n",
    "print(next(x))\n",
    "print(next(x))\n",
    "\n",
    "# Iterating over the generator object using for in loop.\n",
    "print(\"\\nUsing 'for in' loop:\")\n",
    "\n",
    "for i in fib(5):\n",
    "    print(i)\n"
   ]
  }
 ],
 "metadata": {
  "kernelspec": {
   "display_name": "Python 3 (ipykernel)",
   "language": "python",
   "name": "python3"
  },
  "language_info": {
   "codemirror_mode": {
    "name": "ipython",
    "version": 3
   },
   "file_extension": ".py",
   "mimetype": "text/x-python",
   "name": "python",
   "nbconvert_exporter": "python",
   "pygments_lexer": "ipython3",
   "version": "3.9.7"
  }
 },
 "nbformat": 4,
 "nbformat_minor": 5
}
