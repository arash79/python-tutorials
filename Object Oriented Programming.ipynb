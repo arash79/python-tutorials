{
 "cells": [
  {
   "cell_type": "code",
   "execution_count": 4,
   "metadata": {
    "pycharm": {
     "is_executing": true
    }
   },
   "outputs": [
    {
     "name": "stdout",
     "output_type": "stream",
     "text": [
      "This person is Kimbal Allison\n",
      "This person BMI is: 19.1358024691358\n"
     ]
    }
   ],
   "source": [
    "'''Classes are the most fundamental concept of Object Oriented Programming. imagine that we have a lot of various datas, in \n",
    "order to execute operations on these datas first we need to classify them and determine the operations related to each category.\n",
    "for example we can classify them as integers and strings so that now we can define some specific operations on each type.\n",
    "here is a simple example of what a naive class will look like:'''\n",
    "\n",
    "class Person:\n",
    "    def __init__(self, name, last_name):\n",
    "        self.name = name\n",
    "        self.last_name = last_name \n",
    "    \n",
    "    def declare_name(self):\n",
    "        return \"This person is \" + self.name + \" \" + self.last_name\n",
    "    \n",
    "    def bmi_calculator(self, height, weight):\n",
    "        return \"This person BMI is: \" + str(weight / pow(height, 2))\n",
    "\n",
    "sample = Person(\"Kimbal\", \"Allison\")\n",
    "print(sample.declare_name())\n",
    "print(sample.bmi_calculator(1.8, 62))"
   ]
  },
  {
   "cell_type": "code",
   "execution_count": 9,
   "metadata": {},
   "outputs": [
    {
     "name": "stdout",
     "output_type": "stream",
     "text": [
      "This person is Larry palmer\n",
      "This person BMI is: 19.1358024691358, and this person is not underweighted.\n"
     ]
    }
   ],
   "source": [
    "'''we can see that we have assigned the object value in a magic method called __init__(). we will discuss about these methods\n",
    "later. it is obvious that these attributes vary by object properties. when we need a value to be static for all instances of a \n",
    "class, we assign this value out of any mathod and we call it class attribute. see below:'''\n",
    "\n",
    "class Person:\n",
    "    normal_bmi = 18\n",
    "    def __init__(self, name, last_name):\n",
    "        self.name = name\n",
    "        self.last_name = last_name \n",
    "        self.nationality = \"persian\"    #we can assign some static instace attributes as well.\n",
    "        \n",
    "    def declare_name(self):\n",
    "        return \"This person is \" + self.name + \" \" + self.last_name\n",
    "    \n",
    "    def bmi_calculator(self, height, weight): \n",
    "        result = str(weight / pow(height, 2))\n",
    "        underweight = None\n",
    "        if float(result) > Person.normal_bmi:\n",
    "            underweight = \", and this person is not underweighted.\"\n",
    "        else:\n",
    "            underweight = \", and this person is underweighted.\"\n",
    "        return \"This person BMI is: \" + result + underweight\n",
    "\n",
    "sample = Person(\"Larry\", \"palmer\")\n",
    "print(sample.declare_name())\n",
    "print(sample.bmi_calculator(1.8, 62))"
   ]
  },
  {
   "cell_type": "code",
   "execution_count": 2,
   "metadata": {},
   "outputs": [
    {
     "data": {
      "text/plain": [
       "'This person is linus torvalds'"
      ]
     },
     "execution_count": 2,
     "metadata": {},
     "output_type": "execute_result"
    }
   ],
   "source": [
    "'''we can also entirely delete an object or delete or modify its property.'''\n",
    "\n",
    "class Person:\n",
    "    normal_bmi = 18\n",
    "    def __init__(self, name, last_name):\n",
    "        self.name = name\n",
    "        self.last_name = last_name \n",
    "    \n",
    "    def declare_name(self):\n",
    "        return \"This person is \" + self.name + \" \" + self.last_name\n",
    "    \n",
    "    def bmi_calculator(self, height, weight): \n",
    "        result = str(weight / pow(height, 2))\n",
    "        underweight = None\n",
    "        if float(result) > Person.normal_bmi:\n",
    "            underweight = \", and this person is not underweighted.\"\n",
    "        else:\n",
    "            underweight = \", and this person is underweighted.\"\n",
    "        return \"This person BMI is: \" + result + underweight\n",
    "\n",
    "\n",
    "sample = Person(\"brad\", \"torvalds\")\n",
    "sample.declare_name()\n",
    "sample.name = \"linus\"\n",
    "sample.declare_name()\n",
    "#del sample.last_name\n",
    "#sample.declare_name() #as you can see it has encountered an error. we can delete the whole instance by: del sample"
   ]
  },
  {
   "cell_type": "code",
   "execution_count": 17,
   "metadata": {},
   "outputs": [
    {
     "name": "stdout",
     "output_type": "stream",
     "text": [
      "welcome joe evans to the K.N.Toosi University of technology.\n"
     ]
    }
   ],
   "source": [
    "''' a class can inherit from another class. in this case it may inherit the parent class attributes or methods or both.'''\n",
    "\n",
    "class Person:\n",
    "    normal_bmi = 18\n",
    "    def __init__(self, name, last_name):\n",
    "        self.name = name\n",
    "        self.last_name = last_name \n",
    "    \n",
    "    def declare_name(self):\n",
    "        return self.name + \" \" + self.last_name\n",
    "    \n",
    "    def bmi_calculator(self, height, weight): \n",
    "        result = str(weight / pow(height, 2))\n",
    "        underweight = None\n",
    "        if float(result) > Person.normal_bmi:\n",
    "            underweight = \", and this person is not underweighted.\"\n",
    "        else:\n",
    "            underweight = \", and this person is underweighted.\"\n",
    "        return \"This person BMI is: \" + result + underweight\n",
    "\n",
    "class Student(Person):\n",
    "    def welcome(self):\n",
    "        return \"welcome \" + Person.declare_name(self) + \" to the K.N.Toosi University of technology.\"\n",
    "\n",
    "student_instance = Student(\"joe\", \"evans\")\n",
    "print(student_instance.welcome())"
   ]
  },
  {
   "cell_type": "code",
   "execution_count": 5,
   "metadata": {},
   "outputs": [
    {
     "name": "stdout",
     "output_type": "stream",
     "text": [
      "welcome harry smith to the K.N.Toosi University of technology.\n",
      "harry smith has enterd the university in: 2018 and it's gpa is: 3.2\n"
     ]
    }
   ],
   "source": [
    "'''The above example is a very simple example of a class inheriting another class methods and attributes. what if we want to \n",
    "extend the attributes of our child class?'''\n",
    "\n",
    "class Person:\n",
    "    normal_bmi = 18\n",
    "    def __init__(self, name, last_name):\n",
    "        self.name = name\n",
    "        self.last_name = last_name \n",
    "    \n",
    "    def declare_name(self):\n",
    "        return self.name + \" \" + self.last_name\n",
    "    \n",
    "    def bmi_calculator(self, height, weight): \n",
    "        result = str(weight / pow(height, 2))\n",
    "        underweight = None\n",
    "        if float(result) > Person.normal_bmi:\n",
    "            underweight = \", and this person is not underweighted.\"\n",
    "        else:\n",
    "            underweight = \", and this person is underweighted.\"\n",
    "        return \"This person BMI is: \" + result + underweight\n",
    "\n",
    "class Student(Person):\n",
    "    def __init__(self, name, last_name, enterance_year):\n",
    "        super().__init__(name, last_name) \n",
    "        self.enterance_year = enterance_year\n",
    "        \n",
    "    def welcome(self):\n",
    "        return \"welcome \" + Person.declare_name(self) + \" to the K.N.Toosi University of technology.\"\n",
    "    \n",
    "    def announce(self, gpa):\n",
    "        return Person.declare_name(self) + \" has enterd the university in: \" + str(self.enterance_year) + \" and it's gpa is: \" + str(gpa)\n",
    "\n",
    "sample = Student(\"harry\", \"smith\", 2018)\n",
    "print(sample.welcome())\n",
    "print(sample.announce(3.2))"
   ]
  },
  {
   "cell_type": "code",
   "execution_count": 7,
   "metadata": {},
   "outputs": [
    {
     "name": "stdout",
     "output_type": "stream",
     "text": [
      "inside str\n",
      "Name: tom, Last name: willson, Age: 27\n",
      "inside repr\n"
     ]
    },
    {
     "data": {
      "text/plain": [
       "Name: tom, Last name: willson, Age: 27"
      ]
     },
     "execution_count": 7,
     "metadata": {},
     "output_type": "execute_result"
    }
   ],
   "source": [
    "'''thats it for classes and inheritance. let's dive deeper into some concepts. what is magic method?\n",
    "Magic methods are special methods (which are built-in inside python core) that you can define to add ‘magic’ to your classes.\n",
    "They are always surrounded by double underscores, for example, the __init__ and __str__ magic methods.'''\n",
    "\n",
    "class Person:\n",
    "    def __init__(self, name, last_name, age):\n",
    "        self.name = name\n",
    "        self.last_name = last_name\n",
    "        self.age = age\n",
    "        \n",
    "    def __str__(self):\n",
    "        print('inside str')\n",
    "        return \"Name: {}, Last name: {}, Age: {}\".format(self.name, self.last_name, self.age)\n",
    "    \n",
    "    def __repr__(self):\n",
    "        print('inside repr')\n",
    "        return \"Name: {}, Last name: {}, Age: {}\".format(self.name, self.last_name, self.age)\n",
    "    \n",
    "instance = Person(\"tom\", \"willson\", \"27\")\n",
    "print(instance)\n",
    "instance"
   ]
  },
  {
   "cell_type": "code",
   "execution_count": 8,
   "metadata": {},
   "outputs": [
    {
     "name": "stdout",
     "output_type": "stream",
     "text": [
      "str this is my object [0, 1, 2, 3, 4, 5, 6]\n",
      "setter:  this is my object ['first element', 1, 2, 3, 4, 5, 6]\n",
      "getter:  6\n",
      "len 7\n"
     ]
    },
    {
     "data": {
      "text/plain": [
       "'you can read further about other types of magic methods at: \\nhttps://medium.com/fintechexplained/advanced-python-what-are-magic-methods-d21891cf9a08'"
      ]
     },
     "execution_count": 8,
     "metadata": {},
     "output_type": "execute_result"
    }
   ],
   "source": [
    "\"yet another fun example about magic methods: \"\n",
    "\n",
    "class CustomizedList(list):\n",
    "    \n",
    "    def __init__(self, number):\n",
    "        self.my_list = [i for i in range(number)]\n",
    "  \n",
    "    def __str__(self):\n",
    "        return \"this is my object \" + str(self.my_list)\n",
    "    \n",
    "    def __setitem__(self, index, value):\n",
    "        self.my_list[index] = value\n",
    "        \n",
    "    def __getitem__(self, index):\n",
    "        return self.my_list[index]\n",
    "    \n",
    "    def __len__(self):\n",
    "        return len(self.my_list)\n",
    "    \n",
    "instance = CustomizedList(7)\n",
    "print(\"str\", instance)\n",
    "instance[0] = \"first element\" \n",
    "print(\"setter: \", instance)\n",
    "print(\"getter: \", instance[-1])\n",
    "print(\"len\", len(instance))\n",
    "\n",
    "'''you can read further about other types of magic methods at: \n",
    "https://medium.com/fintechexplained/advanced-python-what-are-magic-methods-d21891cf9a08'''"
   ]
  },
  {
   "cell_type": "code",
   "execution_count": 30,
   "metadata": {},
   "outputs": [
    {
     "name": "stdout",
     "output_type": "stream",
     "text": [
      "Ordinary division function will look like: \n",
      "2.8\n",
      "None\n",
      "decorated division function will look like: \n",
      "we are going to divide 14 and 5\n",
      "2.8\n",
      "None\n"
     ]
    }
   ],
   "source": [
    "'''well now is the time to talk about something called decorator.decorators are used to modify the behavior of function or \n",
    "class. In Decorators, functions are taken as the argument into another function and then called inside the wrapper function.'''\n",
    "\n",
    "def divide(a, b):\n",
    "    print(a/b)\n",
    "\n",
    "def smart_divide(function):\n",
    "    def division(a, b):\n",
    "        print(\"we are going to divide\", a, \"and\", b)\n",
    "        if b == 0:\n",
    "            print(\"Whoops! can't be divided.\")\n",
    "            return\n",
    "        return function(a, b)\n",
    "    \n",
    "    return division\n",
    "\n",
    "print(\"Ordinary division function will look like: \")\n",
    "print(divide(14, 5))\n",
    "print(\"decorated division function will look like: \")\n",
    "decorated = smart_divide(divide)\n",
    "print(decorated(14, 5))"
   ]
  },
  {
   "cell_type": "code",
   "execution_count": 33,
   "metadata": {},
   "outputs": [
    {
     "name": "stdout",
     "output_type": "stream",
     "text": [
      "I am going to multiply 4 and 5\n",
      "20\n"
     ]
    }
   ],
   "source": [
    "'''another form of implementing a decorator is:'''\n",
    "def smart_multiply(function):\n",
    "    def inside(a, b):\n",
    "        print(\"I am going to multiply\", a, \"and\", b)\n",
    "        if b == 0:\n",
    "            print(\"Easy, result is: \")\n",
    "            return 0\n",
    "        return function(a, b)\n",
    "\n",
    "    return inside\n",
    "\n",
    "\n",
    "@smart_multiply\n",
    "def multiply(a, b):\n",
    "    return a * b\n",
    "\n",
    "print(multiply(4, 5))"
   ]
  },
  {
   "cell_type": "code",
   "execution_count": 35,
   "metadata": {},
   "outputs": [
    {
     "name": "stdout",
     "output_type": "stream",
     "text": [
      "21\n",
      "25\n",
      "True\n"
     ]
    }
   ],
   "source": [
    "'''we have three kinds of methods in classes: 1)instance method 2)class method 3)static method.\n",
    "instance mathod were discussed earlier in this file. they are the ordinary methods that we define to do something on our\n",
    "objects alone. but class and static methods are decorators which we will describe.'''\n",
    "\n",
    "'''\n",
    "A class method receives the class as implicit first argument, just like an instance method receives the instance(self vs cls).\n",
    "A class method is a method which is bound to the class and not the object of the class.\n",
    "it has the access to the state of the class as it takes a class parameter that points to the class and not the object instance.\n",
    "It can modify a class state that would apply across all the instances of the class. For example it can modify a class variable\n",
    "that will be applicable to all the instances.\n",
    "'''\n",
    "'''\n",
    "A static method does not receive an implicit first argument.\n",
    "A static method is also a method which is bound to the class and not the object of the class.\n",
    "A static method can’t access or modify class state.\n",
    "It is present in a class because it makes sense for the method to be present in class.\n",
    "'''\n",
    "\n",
    "from datetime import date\n",
    "   \n",
    "class Person:\n",
    "    def __init__(self, name, age):\n",
    "        self.name = name\n",
    "        self.age = age\n",
    "       \n",
    "    # a class method to create a Person object by birth year.\n",
    "    @classmethod\n",
    "    def age_calculator(cls, name, year):\n",
    "        return cls(name, date.today().year - year)\n",
    "       \n",
    "    # a static method to check if a Person is adult or not.\n",
    "    @staticmethod\n",
    "    def isadult(age):\n",
    "        return age > 18\n",
    "\n",
    "\n",
    "first_sample = Person('jennfer', 21)\n",
    "second_sample = Person.age_calculator('dale', 1996)\n",
    "   \n",
    "print(first_sample.age)\n",
    "print(second_sample.age)\n",
    "   \n",
    "print(Person.isadult(22))"
   ]
  },
  {
   "cell_type": "code",
   "execution_count": null,
   "metadata": {},
   "outputs": [],
   "source": [
    "'''\n",
    "so to sum it up:\n",
    "A class method takes cls as first parameter while a static method needs no specific parameters.\n",
    "A class method can access or modify class state while a static method can’t access or modify it.\n",
    "In general, static methods know nothing about class state. They are utility type methods that take some parameters and work upon\n",
    "those parameters. On the other hand class methods must have class as parameter.\n",
    "We use @classmethod decorator in python to create a class method and we use @staticmethod decorator to create a static method \n",
    "in python.\n",
    "'''\n",
    "\n",
    "'''\n",
    "when to use which?\n",
    "We generally use class method to create factory methods. Factory methods return class object ( similar to a constructor ) for\n",
    "different use cases.\n",
    "We generally use static methods to create utility functions.\n",
    "'''"
   ]
  }
 ],
 "metadata": {
  "kernelspec": {
   "display_name": "Python 3",
   "language": "python",
   "name": "python3"
  },
  "language_info": {
   "codemirror_mode": {
    "name": "ipython",
    "version": 3
   },
   "file_extension": ".py",
   "mimetype": "text/x-python",
   "name": "python",
   "nbconvert_exporter": "python",
   "pygments_lexer": "ipython3",
   "version": "3.9.1"
  }
 },
 "nbformat": 4,
 "nbformat_minor": 1
}