{
 "cells": [
  {
   "cell_type": "markdown",
   "metadata": {
    "collapsed": true
   },
   "source": [
    "# Python's Syntax\n",
    "\n",
    "* ### Indentation\n",
    "\n",
    "* ### Identifiers\n",
    "\n",
    "* ### Comments\n",
    "\n",
    "\n",
    "## Indetation\n",
    "\n",
    "In order to separate blocks of code (like for loops, if blocks and function definitions) the compiler/interpreter needs something to tell it when a block ends. Curly braces and end statements are perfectly valid ways of providing this information for the compiler. For a human to be able to read the code indentation is a much better way of providing the visual cues about block structure.\n",
    "Python does not mandate how you indent (two spaces or four, tabs or spaces - but not both), just that you do it consistently. Those that get used to the Python way of doing things tend to start seeing curly braces as unnecessary line noise that clutters code.\n",
    "\n",
    "\n",
    "## Identifiers(variables)\n",
    "\n",
    "Identifiers in Python are case-sensitive, so temperature and Temperature are distinct names. Identifiers can be composed of almost any combination of letters, numerals, and underscore characters (or more general Unicode characters). The primary restrictions are that an identifier cannot begin with a numeral (thus 9lives is an illegal name), and that there are 33 specially reserved words that cannot be used as identifiers, as shown in table below:\n",
    " \n",
    "|           |           |           |           |           |           |           |\n",
    "|:---------:|:---------:|:---------:|:---------:|:---------:|:---------:|:---------:|\n",
    "|   False   |  assert   |  del      |  for      |  in       |  or       |  while    |\n",
    "|   None    |  break    |  elif     |  from     |  is       |  pass     |  with     |\n",
    "|   True    |  class    |  else     |  global   |  lambda   |  raise    |  yield    |\n",
    "|   And     |  continue |  except   |  if       |  nonlocal |  return   |           |\n",
    "|   as      |  def      |  finally  |  import   |  not      |  try      |           |\n",
    "\n",
    "\n",
    "## Comments \n",
    "\n",
    "Python provides three kinds of comments including: 1) block comment, 2) inline comment, and 3) documentation string. We will talk about them later.\n",
    "\n",
    "enough talking. **Let's Go.**\n"
   ]
  },
  {
   "cell_type": "markdown",
   "metadata": {},
   "source": [
    "***\n",
    "# Indentation\n",
    "***\n",
    "* *as we mentioned earlier Python uses indentation to indicate a block of code. for more illustration see the example below:*"
   ]
  },
  {
   "cell_type": "code",
   "execution_count": 1,
   "metadata": {},
   "outputs": [
    {
     "name": "stdout",
     "output_type": "stream",
     "text": [
      "Ten is greater than nine!\n"
     ]
    }
   ],
   "source": [
    "if 10 > 9:\n",
    "  print(\"Ten is greater than nine!\")"
   ]
  },
  {
   "cell_type": "markdown",
   "metadata": {},
   "source": [
    "* *but it will give you an error if you skip the indentation:*"
   ]
  },
  {
   "cell_type": "code",
   "execution_count": 2,
   "metadata": {},
   "outputs": [
    {
     "ename": "IndentationError",
     "evalue": "expected an indented block (Temp/ipykernel_8068/2450626229.py, line 2)",
     "output_type": "error",
     "traceback": [
      "\u001b[1;36m  File \u001b[1;32m\"C:\\Users\\User\\AppData\\Local\\Temp/ipykernel_8068/2450626229.py\"\u001b[1;36m, line \u001b[1;32m2\u001b[0m\n\u001b[1;33m    print(\"Ten is greater than nine!\")\u001b[0m\n\u001b[1;37m    ^\u001b[0m\n\u001b[1;31mIndentationError\u001b[0m\u001b[1;31m:\u001b[0m expected an indented block\n"
     ]
    }
   ],
   "source": [
    "if 10 > 9:\n",
    "print(\"Ten is greater than nine!\")"
   ]
  },
  {
   "cell_type": "markdown",
   "metadata": {},
   "source": [
    "* *Just remember that the number of spaces is up to you, but it has to be at least one(usually we use four).*"
   ]
  },
  {
   "cell_type": "code",
   "execution_count": 3,
   "metadata": {},
   "outputs": [
    {
     "name": "stdout",
     "output_type": "stream",
     "text": [
      "Ten is greater than nine!\n",
      "Ten is greater than nine!\n"
     ]
    }
   ],
   "source": [
    "if 10 > 9:\n",
    " print(\"Ten is greater than nine!\") \n",
    "if 10 > 9:\n",
    "        print(\"Ten is greater than nine!\") "
   ]
  },
  {
   "cell_type": "markdown",
   "metadata": {},
   "source": [
    "* <mark>You have to use the same number of spaces in the same block of code, otherwise Python will give you an error:</mark>"
   ]
  },
  {
   "cell_type": "code",
   "execution_count": 4,
   "metadata": {},
   "outputs": [
    {
     "ename": "IndentationError",
     "evalue": "unexpected indent (Temp/ipykernel_8068/4018295151.py, line 3)",
     "output_type": "error",
     "traceback": [
      "\u001b[1;36m  File \u001b[1;32m\"C:\\Users\\User\\AppData\\Local\\Temp/ipykernel_8068/4018295151.py\"\u001b[1;36m, line \u001b[1;32m3\u001b[0m\n\u001b[1;33m    print(\"This will cause an error!🙄\")\u001b[0m\n\u001b[1;37m    ^\u001b[0m\n\u001b[1;31mIndentationError\u001b[0m\u001b[1;31m:\u001b[0m unexpected indent\n"
     ]
    }
   ],
   "source": [
    "if 5 > 2:\n",
    " print(\"Five is greater than two!\")\n",
    "        print(\"This will cause an error!🙄\")"
   ]
  },
  {
   "cell_type": "markdown",
   "metadata": {},
   "source": [
    "***\n",
    "# Identifiers(variables)\n",
    "***\n",
    "* *In Python, variables are created when you assign a value to it:*\n",
    "\n",
    "The most commonly used methods of constructing a multi-word variable name are the last three examples:\n",
    "\n",
    "Camel Case: Second and subsequent words are capitalized, to make word boundaries easier to see. (Presumably, it struck someone at some point that the capital letters strewn throughout the variable name vaguely resemble camel humps.)\n",
    "\n",
    "Example: numberOfCollegeGraduates\n",
    "\n",
    "Pascal Case: Identical to Camel Case, except the first word is also capitalized.\n",
    "\n",
    "Example: NumberOfCollegeGraduates\n",
    "\n",
    "Snake Case: Words are separated by underscores.\n",
    "\n",
    "Example: number_of_college_graduates\n"
   ]
  },
  {
   "cell_type": "code",
   "execution_count": 5,
   "metadata": {},
   "outputs": [
    {
     "name": "stdout",
     "output_type": "stream",
     "text": [
      "9\n",
      "True\n",
      "False\n"
     ]
    }
   ],
   "source": [
    "nine = 9\n",
    "are_we_in_class = True\n",
    "print(nine)\n",
    "print(are_we_in_class)\n",
    "print(not are_we_in_class)  # pay attention"
   ]
  },
  {
   "attachments": {},
   "cell_type": "markdown",
   "metadata": {},
   "source": [
    "* ### switching values\n",
    "\n",
    "How to switch values in python? here is how:"
   ]
  },
  {
   "cell_type": "code",
   "execution_count": 1,
   "metadata": {},
   "outputs": [
    {
     "name": "stdout",
     "output_type": "stream",
     "text": [
      "initial values: \n",
      "a:  8\n",
      "b:  7\n",
      "modified values: \n",
      "a:  7\n",
      "b:  7\n"
     ]
    }
   ],
   "source": [
    "a = 8\n",
    "b = 7\n",
    "print(\"initial values: \")\n",
    "print(\"a: \", a)\n",
    "print(\"b: \", b)\n",
    "# we introduce an auxiliary variable and assign the first variable to it, then we do the switching as follows:\n",
    "c = a\n",
    "a = b\n",
    "b = c\n",
    "print(\"modified values: \")\n",
    "print(\"a: \", a)\n",
    "print(\"b: \", b)"
   ]
  },
  {
   "cell_type": "markdown",
   "metadata": {},
   "source": [
    "*here is a much simpler method to switch values in python:*"
   ]
  },
  {
   "cell_type": "code",
   "execution_count": 7,
   "metadata": {},
   "outputs": [
    {
     "name": "stdout",
     "output_type": "stream",
     "text": [
      "initial values: \n",
      "c:  9\n",
      "d:  10\n",
      "modified values: \n",
      "c:  10\n",
      "d:  9\n"
     ]
    }
   ],
   "source": [
    "c = 9\n",
    "d = 10\n",
    "print(\"initial values: \")\n",
    "print(\"c: \", c)\n",
    "print(\"d: \", d)\n",
    "c, d = d, c  # Here we are using tuples secretly.\n",
    "print(\"modified values: \")\n",
    "print(\"c: \", c)\n",
    "print(\"d: \", d)"
   ]
  },
  {
   "cell_type": "markdown",
   "metadata": {},
   "source": [
    "* ### Object References\n",
    "\n",
    "Python is a highly object-oriented language. In fact, virtually every item of data in a Python program is an object of a specific type or class. (This point will be reiterated many times over the course of these tutorials.)\n",
    "Consider this code:"
   ]
  },
  {
   "cell_type": "code",
   "execution_count": 8,
   "metadata": {},
   "outputs": [
    {
     "name": "stdout",
     "output_type": "stream",
     "text": [
      "300\n"
     ]
    }
   ],
   "source": [
    "print(300)"
   ]
  },
  {
   "cell_type": "markdown",
   "metadata": {},
   "source": [
    "When presented with the statement ```print(300)```, the interpreter does the following:\n",
    "\n",
    "* Creates an integer object\n",
    "* Gives it the value 300\n",
    "* Displays it to the console\n",
    "\n",
    "You can see that an integer object is created using the built-in ```type()``` function:"
   ]
  },
  {
   "cell_type": "code",
   "execution_count": 9,
   "metadata": {},
   "outputs": [
    {
     "data": {
      "text/plain": [
       "int"
      ]
     },
     "execution_count": 9,
     "metadata": {},
     "output_type": "execute_result"
    }
   ],
   "source": [
    "type(300)"
   ]
  },
  {
   "cell_type": "markdown",
   "metadata": {},
   "source": [
    "A Python variable is a symbolic name that is a reference or pointer to an object. Once an object is assigned to a variable, you can refer to the object by that name. But the data itself is still contained within the object.\n",
    "This assignment creates an integer object with the value 300 and assigns the variable n to point to that object: "
   ]
  },
  {
   "cell_type": "code",
   "execution_count": 10,
   "metadata": {},
   "outputs": [],
   "source": [
    "n = 300"
   ]
  },
  {
   "cell_type": "markdown",
   "metadata": {},
   "source": [
    "<div>\n",
    "<img src=\"https://files.realpython.com/media/t.2d7bcb9afaaf.png\" width=\"250\"/>\n",
    "</div>\n",
    "\n",
    "The following code verifies that n points to an integer object:"
   ]
  },
  {
   "cell_type": "code",
   "execution_count": 11,
   "metadata": {},
   "outputs": [
    {
     "name": "stdout",
     "output_type": "stream",
     "text": [
      "300\n"
     ]
    },
    {
     "data": {
      "text/plain": [
       "int"
      ]
     },
     "execution_count": 11,
     "metadata": {},
     "output_type": "execute_result"
    }
   ],
   "source": [
    "print(n)\n",
    "type(n)"
   ]
  },
  {
   "cell_type": "markdown",
   "metadata": {},
   "source": [
    "Now consider the following statement:"
   ]
  },
  {
   "cell_type": "code",
   "execution_count": 12,
   "metadata": {},
   "outputs": [],
   "source": [
    "m = n"
   ]
  },
  {
   "cell_type": "markdown",
   "metadata": {},
   "source": [
    "What happens when it is executed? Python does not create another object. It simply creates a new symbolic name or reference, m, which points to the same object that n points to.\n",
    "\n",
    "<div>\n",
    "<img src=\"https://files.realpython.com/media/t.d368386b8423.png\" width=\"430\"/>\n",
    "</div>\n",
    "\n",
    "Next, suppose you do this:"
   ]
  },
  {
   "cell_type": "code",
   "execution_count": 13,
   "metadata": {},
   "outputs": [],
   "source": [
    "m = 400"
   ]
  },
  {
   "cell_type": "markdown",
   "metadata": {},
   "source": [
    "Now Python creates a new integer object with the value 400, and m becomes a reference to it.\n",
    "\n",
    "<div>\n",
    "<img src=\"https://files.realpython.com/media/t.d476d91592cd.png\" width=\"430\"/>\n",
    "</div>\n",
    "\n",
    "Lastly, suppose this statement is executed next:"
   ]
  },
  {
   "cell_type": "code",
   "execution_count": 14,
   "metadata": {},
   "outputs": [],
   "source": [
    "n = \"foo\""
   ]
  },
  {
   "cell_type": "markdown",
   "metadata": {},
   "source": [
    "Now Python creates a string object with the value \"foo\" and makes n reference that.\n",
    "<div>\n",
    "<img src=\"https://files.realpython.com/media/t.344ab0b3aa8c.png\" width=\"430\"/>\n",
    "</div>\n",
    "There is no longer any reference to the integer object 300. It is orphaned, and there is no way to access it."
   ]
  },
  {
   "cell_type": "markdown",
   "metadata": {},
   "source": [
    "* ### Object Identity\n",
    "\n",
    "In Python, every object that is created is given a number that uniquely identifies it. It is guaranteed that no two objects will have the same identifier during any period in which their lifetimes overlap. Once an object’s reference count drops to zero and it is garbage collected, as happened to the 300 object above, then its identifying number becomes available and may be used again.\n",
    "\n",
    "The built-in Python function ```id()``` returns an object’s integer identifier. Using the ```id()``` function, you can verify that two variables indeed point to the same object:"
   ]
  },
  {
   "cell_type": "code",
   "execution_count": 15,
   "metadata": {},
   "outputs": [
    {
     "name": "stdout",
     "output_type": "stream",
     "text": [
      "n's id:  2950388134672\n",
      "m's id:  2950388134672\n",
      "m's new id:  2950388134736\n"
     ]
    }
   ],
   "source": [
    "n = 300\n",
    "m = n\n",
    "print(\"n's id: \", id(n))\n",
    "print(\"m's id: \", id(m))\n",
    "m = 400  # changing value of m\n",
    "print(\"m's new id: \", id(m))"
   ]
  },
  {
   "cell_type": "markdown",
   "metadata": {},
   "source": [
    "After the assignment m = n, m and n both point to the same object, confirmed by the fact that ```id(m)``` and ```id(n)``` return the same number. Once m is reassigned to 400, m and n point to different objects with different identities.\n",
    "\n",
    "#### *Deep Dive: Caching Small Integer Values*\n",
    "\n",
    "From what you now know about variable assignment and object references in Python, the following probably won’t surprise you:"
   ]
  },
  {
   "cell_type": "code",
   "execution_count": 16,
   "metadata": {},
   "outputs": [
    {
     "name": "stdout",
     "output_type": "stream",
     "text": [
      "n's id:  2950388134544\n",
      "m's id:  2950388134832\n"
     ]
    }
   ],
   "source": [
    "m = 300\n",
    "n = 300\n",
    "print(\"n's id: \", id(n))\n",
    "print(\"m's id: \", id(m))"
   ]
  },
  {
   "cell_type": "markdown",
   "metadata": {},
   "source": [
    "With the statement m = 300, Python creates an integer object with the value 300 and sets m as a reference to it. n is then similarly assigned to an integer object with value 300 but not the same object. Thus, they have different identities, which you can verify from the values returned by ```id()```.\n",
    "\n",
    "But consider this:\n"
   ]
  },
  {
   "cell_type": "code",
   "execution_count": 17,
   "metadata": {},
   "outputs": [
    {
     "name": "stdout",
     "output_type": "stream",
     "text": [
      "n's id:  2950305115344\n",
      "m's id:  2950305115344\n"
     ]
    }
   ],
   "source": [
    "m = 30\n",
    "n = 30\n",
    "print(\"n's id: \", id(n))\n",
    "print(\"m's id: \", id(m))"
   ]
  },
  {
   "cell_type": "markdown",
   "metadata": {},
   "source": [
    "Here, m and n are separately assigned to integer objects having value 30. But in this case, id(m) and id(n) are identical!\n",
    "\n",
    "For purposes of optimization, the interpreter creates objects for the integers in the range [-5, 256] at startup, and then reuses them during program execution. Thus, when you assign separate variables to an integer value in this range, they will actually reference the same object."
   ]
  },
  {
   "cell_type": "markdown",
   "metadata": {},
   "source": [
    "***\n",
    "# Commnets\n",
    "***\n",
    "\n",
    "### Python block comments\n",
    "\n",
    "    A block comment explains the code that follows it. Typically, you indent a block comment at the same level as the code block."
   ]
  },
  {
   "cell_type": "code",
   "execution_count": 18,
   "metadata": {},
   "outputs": [],
   "source": [
    "# increase price by 5%\n",
    "price = 1\n",
    "price = price * 1.05"
   ]
  },
  {
   "cell_type": "markdown",
   "metadata": {},
   "source": [
    "### Python inline comments\n",
    "\n",
    "    When you place a comment on the same line as a statement, you’ll have an inline comment."
   ]
  },
  {
   "cell_type": "code",
   "execution_count": 19,
   "metadata": {},
   "outputs": [],
   "source": [
    "salary = 3500\n",
    "salary = salary * 1.02   # increase salary by 2%"
   ]
  },
  {
   "cell_type": "markdown",
   "metadata": {},
   "source": [
    "* ### Python docstrings\n",
    "\n",
    "    A documentation string is a string literal that you put as the first lines in a code block, for example, a function.\n",
    "    \n",
    "    Unlike a regular comment, a documentation string can be accessed at run-time using  obj.__doc__ attribute where obj is the name of the function.\n",
    "\n",
    "    Typically, you use a documentation string to automatically generate the code documentation.\n",
    "\n",
    "    Documentation strings is called docstrings.\n",
    "\n",
    "    Technically speaking, docstrings are not the comments. They create anonymous variables that reference the strings. Also, they’re not ignored by the Python interpreter.\n",
    "\n",
    "1. **One-line docstrings**\n",
    "\n",
    "    As its name implies, a one-line docstring fits one line. A one-line docstring begins with triple quotes (\"\"\") and also ends with triple quotes (\"\"\"). Also, there won’t be any blank line either before or after the one-line docstring."
   ]
  },
  {
   "cell_type": "code",
   "execution_count": 20,
   "metadata": {},
   "outputs": [],
   "source": [
    "def quicksort():\n",
    "    \"\"\" sort the list using quicksort algorithm \"\"\""
   ]
  },
  {
   "cell_type": "markdown",
   "metadata": {},
   "source": [
    "2. **Multi-line docstrings**\n",
    "\n",
    "    Unlike a one-line docstring, a multi-line docstring can span multiple lines. A multi-line docstring also starts with triple quotes (\"\"\") and ends with triple quotes (\"\"\")."
   ]
  },
  {
   "cell_type": "code",
   "execution_count": 21,
   "metadata": {},
   "outputs": [],
   "source": [
    "def increase(salary, percentage, rating):\n",
    "    \"\"\" increase salary base on rating and percentage\n",
    "    rating 1 - 2 no increase\n",
    "    rating 3 - 4 increase 5%\n",
    "    rating 4 - 6 increase 10%\n",
    "    \"\"\""
   ]
  }
 ],
 "metadata": {
  "kernelspec": {
   "display_name": "Python 3 (ipykernel)",
   "language": "python",
   "name": "python3"
  },
  "language_info": {
   "codemirror_mode": {
    "name": "ipython",
    "version": 3
   },
   "file_extension": ".py",
   "mimetype": "text/x-python",
   "name": "python",
   "nbconvert_exporter": "python",
   "pygments_lexer": "ipython3",
   "version": "3.9.7"
  }
 },
 "nbformat": 4,
 "nbformat_minor": 1
}
