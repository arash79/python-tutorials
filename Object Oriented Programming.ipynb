{
 "cells": [
  {
   "cell_type": "markdown",
   "id": "fd110b20",
   "metadata": {},
   "source": [
    "***\n",
    "# Object Oriented Programming\n",
    "***\n",
    "\n",
    "**Object-oriented programming** is a programming paradigm that provides a means of structuring programs so that properties and behaviors are bundled into individual objects.\n",
    "\n",
    "For instance, an object could represent a person with properties like a name, age, and address and behaviors such as walking, talking, breathing, and running. Or it could represent an email with properties like a recipient list, subject, and body and behaviors like adding attachments and sending.\n",
    "\n",
    "Put another way, object-oriented programming is an approach for modeling concrete, real-world things, like cars, as well as relations between things, like companies and employees, students and teachers, and so on. OOP models real-world entities as software objects that have some data associated with them and can perform certain functions.\n",
    "\n",
    "Another common programming paradigm is **procedural programming**, which structures a program like a recipe in that it provides a set of steps, in the form of functions and code blocks, that flow sequentially in order to complete a task.\n",
    "\n",
    "The key takeaway is that <mark>objects are at the center of object-oriented programming in Python, not only representing the data, as in procedural programming, but in the overall structure of the program as well.</mark>"
   ]
  },
  {
   "cell_type": "markdown",
   "id": "ab055acc",
   "metadata": {},
   "source": [
    "## Goals, Principles, and Patterns \n",
    "\n",
    "As the name implies, the main “actors” in the object-oriented paradigm are called objects. Each **object** is an **instance** of a **class**. Each class presents to the outside world a concise and consistent view of the objects that are instances of this class, without going into too much unnecessary detail or giving others access to the inner workings of the objects. The class definition typically specifies **instance variables**, also known as **data members**, that the object contains, as well as the methods, also known as **member functions**, that the object can execute. This view of computing is intended to fulfill several goals.\n",
    "\n",
    "* ### Object-Oriented Design Goals\n",
    "\n",
    "\n",
    "1. **Robustness:**\n",
    "\n",
    "    Every good programmer wants to develop software that is correct, which means that a program produces the right output for       all the anticipated inputs in the program’s application. In addition, we want software to be robust, that is, capable of       handling unexpected inputs that are not explicitly defined for its application.\n",
    "\n",
    "\n",
    "2. **Adaptability:**\n",
    "\n",
    "    Modern software applications, such as Web browsers and Internet search engines, typically involve large programs that are       used for many years. Software, therefore, needs to be able to evolve over time in response to changing conditions in its       environment. Thus, another important goal of quality software is that it achieves **adaptability** (also called                 **evolvability**).Related to this concept is **portability**, which is the ability of software to run with minimal change       on different hardware and system platforms. An advantage of writing software in Python is the portability provided by the       language  itself.\n",
    "\n",
    "\n",
    "3. **Reusability:**\n",
    "\n",
    "    Going hand in hand with adaptability is the desire that software be reusable, that is, the same code should be usable as a     component of different systems in various applications. Developing quality software can be an expensive enterprise, and its     cost can be offset somewhat if the software is designed in a way that makes it easily reusable in future applications. Such     reuse should be done with care.\n",
    "    \n",
    "\n",
    "<div>\n",
    "<img src=\"https://s4.uupload.ir/files/sc_5wrn.png\" width=\"400\"/>\n",
    "</div>"
   ]
  },
  {
   "cell_type": "markdown",
   "id": "2a998108",
   "metadata": {},
   "source": [
    "## Class Definitions\n",
    "\n",
    "A class serves as the primary means for abstraction in object-oriented programming. In Python, every piece of data is represented as an instance of some class. A class provides a set of behaviors in the form of **member functions** (also known as **methods**), with implementations that are common to all instances of that class. A class also serves as a blueprint for its instances, effectively determining the way that state information for each instance is represented in the form of attributes (also known as **fields**, **instance variables**, or **data members**)."
   ]
  },
  {
   "cell_type": "markdown",
   "id": "a48d30b4",
   "metadata": {},
   "source": [
    "* ### The ```self``` Identifier\n",
    "\n",
    "\n",
    "In Python, the ```self``` identifier plays a key role. In the context of the following class, there can presumably be many different person instances, and each must maintain its own first name, its own last name, and so on. Therefore, each instance stores its own instance variables to reflect its current state.\n",
    "\n",
    "* **Note:** <mark>It does not have to be named self , you can call it whatever you like, but it has to be the first parameter of any function in the class.</mark>"
   ]
  },
  {
   "cell_type": "markdown",
   "id": "02520b55",
   "metadata": {},
   "source": [
    "* ### The ```__init__()``` Function\n",
    "\n",
    "\n",
    "To understand the meaning of classes we have to understand the built-in ```__init__()``` function.\n",
    "All classes have a function called ```__init__()```, which is always executed when the class is being initiated.\n",
    "\n",
    "Use the ```__init__()``` function to assign values to object properties, or other operations that are necessary to do when the object is being created:"
   ]
  },
  {
   "cell_type": "code",
   "execution_count": 2,
   "id": "1c7e84f2",
   "metadata": {},
   "outputs": [
    {
     "name": "stdout",
     "output_type": "stream",
     "text": [
      "this person name is:  Kimbal\n"
     ]
    }
   ],
   "source": [
    "class Person:\n",
    "    def __init__(self, name, last_name):\n",
    "        self.name = name\n",
    "        self.last_name = last_name \n",
    "\n",
    "        \n",
    "p1= Person(\"Kimbal\", \"Allison\")\n",
    "print(\"this person name is: \", p1.name)"
   ]
  },
  {
   "cell_type": "markdown",
   "id": "1930801e",
   "metadata": {},
   "source": [
    "* ### Object Methods(aka Instance Methods)\n",
    "\n",
    "\n",
    "Objects can also contain methods. Methods in objects are functions that belong to the object.\n",
    "\n",
    "Let us create a method in the Person class:"
   ]
  },
  {
   "cell_type": "code",
   "execution_count": 6,
   "id": "7eef45ec",
   "metadata": {},
   "outputs": [
    {
     "name": "stdout",
     "output_type": "stream",
     "text": [
      "This person is Kimbal Allison\n",
      "This person BMI is: 19.1358024691358\n"
     ]
    }
   ],
   "source": [
    "class Person:\n",
    "    def __init__(self, name, last_name):\n",
    "        self.name = name\n",
    "        self.last_name = last_name \n",
    "    \n",
    "    def declare_name(self):\n",
    "        return \"This person is \" + self.name + \" \" + self.last_name\n",
    "    \n",
    "    def bmi_calculator(self, height, weight):\n",
    "        return \"This person BMI is: \" + str(weight / pow(height, 2))\n",
    "\n",
    "p1 = Person(\"Kimbal\", \"Allison\")\n",
    "print(p1.declare_name())\n",
    "print(p1.bmi_calculator(1.8, 62))"
   ]
  },
  {
   "cell_type": "markdown",
   "id": "07219cfe",
   "metadata": {},
   "source": [
    "* ### Modify Object Properties\n",
    "\n",
    "You can modify properties on objects like this:"
   ]
  },
  {
   "cell_type": "code",
   "execution_count": 7,
   "id": "938fb03d",
   "metadata": {},
   "outputs": [
    {
     "data": {
      "text/plain": [
       "'This person is harry Allison'"
      ]
     },
     "execution_count": 7,
     "metadata": {},
     "output_type": "execute_result"
    }
   ],
   "source": [
    "p1.name = \"harry\"\n",
    "p1.declare_name()"
   ]
  },
  {
   "cell_type": "markdown",
   "id": "b56009ac",
   "metadata": {},
   "source": [
    "* ### Delete Object Properties\n",
    "\n",
    "You can delete properties on objects by using the ```del``` keyword:"
   ]
  },
  {
   "cell_type": "code",
   "execution_count": 8,
   "id": "9f526804",
   "metadata": {},
   "outputs": [
    {
     "ename": "AttributeError",
     "evalue": "'Person' object has no attribute 'last_name'",
     "output_type": "error",
     "traceback": [
      "\u001b[1;31m---------------------------------------------------------------------------\u001b[0m",
      "\u001b[1;31mAttributeError\u001b[0m                            Traceback (most recent call last)",
      "\u001b[1;32m~\\AppData\\Local\\Temp/ipykernel_3724/2005076607.py\u001b[0m in \u001b[0;36m<module>\u001b[1;34m\u001b[0m\n\u001b[0;32m      1\u001b[0m \u001b[1;32mdel\u001b[0m \u001b[0mp1\u001b[0m\u001b[1;33m.\u001b[0m\u001b[0mlast_name\u001b[0m\u001b[1;33m\u001b[0m\u001b[1;33m\u001b[0m\u001b[0m\n\u001b[1;32m----> 2\u001b[1;33m \u001b[0mp1\u001b[0m\u001b[1;33m.\u001b[0m\u001b[0mdeclare_name\u001b[0m\u001b[1;33m(\u001b[0m\u001b[1;33m)\u001b[0m\u001b[1;33m\u001b[0m\u001b[1;33m\u001b[0m\u001b[0m\n\u001b[0m",
      "\u001b[1;32m~\\AppData\\Local\\Temp/ipykernel_3724/3288092680.py\u001b[0m in \u001b[0;36mdeclare_name\u001b[1;34m(self)\u001b[0m\n\u001b[0;32m      5\u001b[0m \u001b[1;33m\u001b[0m\u001b[0m\n\u001b[0;32m      6\u001b[0m     \u001b[1;32mdef\u001b[0m \u001b[0mdeclare_name\u001b[0m\u001b[1;33m(\u001b[0m\u001b[0mself\u001b[0m\u001b[1;33m)\u001b[0m\u001b[1;33m:\u001b[0m\u001b[1;33m\u001b[0m\u001b[1;33m\u001b[0m\u001b[0m\n\u001b[1;32m----> 7\u001b[1;33m         \u001b[1;32mreturn\u001b[0m \u001b[1;34m\"This person is \"\u001b[0m \u001b[1;33m+\u001b[0m \u001b[0mself\u001b[0m\u001b[1;33m.\u001b[0m\u001b[0mname\u001b[0m \u001b[1;33m+\u001b[0m \u001b[1;34m\" \"\u001b[0m \u001b[1;33m+\u001b[0m \u001b[0mself\u001b[0m\u001b[1;33m.\u001b[0m\u001b[0mlast_name\u001b[0m\u001b[1;33m\u001b[0m\u001b[1;33m\u001b[0m\u001b[0m\n\u001b[0m\u001b[0;32m      8\u001b[0m \u001b[1;33m\u001b[0m\u001b[0m\n\u001b[0;32m      9\u001b[0m     \u001b[1;32mdef\u001b[0m \u001b[0mbmi_calculator\u001b[0m\u001b[1;33m(\u001b[0m\u001b[0mself\u001b[0m\u001b[1;33m,\u001b[0m \u001b[0mheight\u001b[0m\u001b[1;33m,\u001b[0m \u001b[0mweight\u001b[0m\u001b[1;33m)\u001b[0m\u001b[1;33m:\u001b[0m\u001b[1;33m\u001b[0m\u001b[1;33m\u001b[0m\u001b[0m\n",
      "\u001b[1;31mAttributeError\u001b[0m: 'Person' object has no attribute 'last_name'"
     ]
    }
   ],
   "source": [
    "del p1.last_name\n",
    "p1.declare_name()  # pay attention to why it raised an error"
   ]
  },
  {
   "cell_type": "markdown",
   "id": "af950151",
   "metadata": {},
   "source": [
    "* ### Delete Objects\n",
    "\n",
    "You can delete objects by using the ```del``` keyword:"
   ]
  },
  {
   "cell_type": "code",
   "execution_count": 10,
   "id": "7012bc08",
   "metadata": {},
   "outputs": [
    {
     "ename": "NameError",
     "evalue": "name 'p1' is not defined",
     "output_type": "error",
     "traceback": [
      "\u001b[1;31m---------------------------------------------------------------------------\u001b[0m",
      "\u001b[1;31mNameError\u001b[0m                                 Traceback (most recent call last)",
      "\u001b[1;32m~\\AppData\\Local\\Temp/ipykernel_3724/2864836609.py\u001b[0m in \u001b[0;36m<module>\u001b[1;34m\u001b[0m\n\u001b[1;32m----> 1\u001b[1;33m \u001b[1;32mdel\u001b[0m \u001b[0mp1\u001b[0m\u001b[1;33m\u001b[0m\u001b[1;33m\u001b[0m\u001b[0m\n\u001b[0m\u001b[0;32m      2\u001b[0m \u001b[0mprint\u001b[0m\u001b[1;33m(\u001b[0m\u001b[0mp1\u001b[0m\u001b[1;33m.\u001b[0m\u001b[0mbmi_calculator\u001b[0m\u001b[1;33m(\u001b[0m\u001b[1;36m1.8\u001b[0m\u001b[1;33m,\u001b[0m \u001b[1;36m62\u001b[0m\u001b[1;33m)\u001b[0m\u001b[1;33m)\u001b[0m\u001b[1;33m\u001b[0m\u001b[1;33m\u001b[0m\u001b[0m\n",
      "\u001b[1;31mNameError\u001b[0m: name 'p1' is not defined"
     ]
    }
   ],
   "source": [
    "del p1\n",
    "print(p1.bmi_calculator(1.8, 62))  # it will raise NameError"
   ]
  },
  {
   "cell_type": "markdown",
   "id": "d35d51a2",
   "metadata": {},
   "source": [
    "## Instance, Class, and Static Methods\n",
    "\n",
    "\n",
    "Let’s begin by writing a class that contains simple examples for all three method types:"
   ]
  },
  {
   "cell_type": "code",
   "execution_count": 11,
   "id": "764d4cba",
   "metadata": {},
   "outputs": [],
   "source": [
    "class MyClass:\n",
    "    def method(self):\n",
    "        return 'instance method called', self\n",
    "\n",
    "    @classmethod\n",
    "    def classmethod(cls):\n",
    "        return 'class method called', cls\n",
    "\n",
    "    @staticmethod\n",
    "    def staticmethod():\n",
    "        return 'static method called'"
   ]
  },
  {
   "cell_type": "markdown",
   "id": "6d3794de",
   "metadata": {},
   "source": [
    "* ### Instance Methods\n",
    "\n",
    "The first method on ```MyClass```, called method, is a regular instance method. That’s the basic, no-frills method type you’ll use most of the time. You can see the method takes one parameter, ```self```, **which points to an instance of MyClass when the method is called** (but of course instance methods can accept more than just one parameter).\n",
    "\n",
    "Through the ```self``` parameter, instance methods can freely access attributes and other methods on the same object. This gives them a lot of power when it comes to modifying an object’s state.\n",
    "\n",
    "Not only can they modify object state, instance methods can also access the class itself through the ```self.__class__``` attribute. This means instance methods can also modify class state."
   ]
  },
  {
   "cell_type": "markdown",
   "id": "6040db1b",
   "metadata": {},
   "source": [
    "* ### Class Methods\n",
    "\n",
    "Let’s compare that to the second method, ```MyClass.classmethod```. I marked this method with a ```@classmethod``` decorator(we will explain later) to flag it as a class method.\n",
    "\n",
    "Instead of accepting a ```self``` parameter, **class methods take a ```cls``` parameter that points to the class—and not the object instance—when the method is called**.\n",
    "\n",
    "* **Note:** <mark>Because the class method only has access to this ```cls``` argument, it can’t modify object instance state.</mark> **That would require access to self.** However, **class methods can still modify class state that applies across all instances of the class.**"
   ]
  },
  {
   "cell_type": "markdown",
   "id": "f05f76bc",
   "metadata": {},
   "source": [
    "* ### Static Methods\n",
    "\n",
    "The third method, ```MyClass.staticmethod``` was marked with a ```@staticmethod``` decorator to flag it as a static method.\n",
    "\n",
    "* **Note: This type of method takes neither a self nor a cls parameter** (but of course it’s free to accept an arbitrary number of other parameters).\n",
    "\n",
    "<mark>Therefore a static method can neither modify object state nor class state. Static methods are restricted in what data they can access - and they’re primarily a way to ```namespace``` your methods.</mark>"
   ]
  },
  {
   "cell_type": "code",
   "execution_count": 21,
   "id": "72a896a0",
   "metadata": {},
   "outputs": [
    {
     "name": "stdout",
     "output_type": "stream",
     "text": [
      "my pizza area is:  1256.0\n",
      "margherita pizza ingredients are:  ['mozzarella', 'tomatoes']\n",
      "the area of pizza with given radius:  1962.5\n"
     ]
    }
   ],
   "source": [
    "class Pizza:\n",
    "    def __init__(self, radius, ingredients):\n",
    "        self.radius = radius\n",
    "        self.ingredients = ingredients\n",
    "\n",
    "    def area(self):\n",
    "        return self.circle_area(self.radius)\n",
    "    \n",
    "    @classmethod\n",
    "    def margherita(cls):  #  factory methods instead of calling the Pizza constructor directly.\n",
    "        return cls(20, ['mozzarella', 'tomatoes'])\n",
    "\n",
    "    @staticmethod\n",
    "    def circle_area(r):\n",
    "        return r ** 2 * 3.14 # pi number\n",
    "\n",
    "\n",
    "my_pizza = Pizza(20, ['mozzarella', 'tomatoes', 'ham', 'mushrooms'])\n",
    "print(\"my pizza area is: \", my_pizza.area())\n",
    "margherita_ingredients = Pizza.margherita().ingredients\n",
    "print(\"margherita pizza ingredients are: \", margherita_ingredients)\n",
    "print(\"the area of pizza with given radius: \", Pizza.circle_area(25))"
   ]
  },
  {
   "cell_type": "markdown",
   "id": "364e7a0a",
   "metadata": {},
   "source": [
    "* ### Key Takeaways\n",
    "\n",
    "\n",
    "   * Instance methods need a class instance and can access the instance through self.\n",
    "\n",
    "   * Class methods don’t need a class instance. They can’t access the instance (```self```) but they have access to the class itself via ```cls```.\n",
    "\n",
    "   * Static methods don’t have access to ```cls``` or ```self```. They work like regular functions but belong to the class’s namespace.\n",
    "\n",
    "\n",
    "**Note:** Static and class methods communicate and (to a certain degree) enforce developer intent about class design. This can have maintenance benefits."
   ]
  },
  {
   "cell_type": "markdown",
   "id": "2beff2d5",
   "metadata": {},
   "source": [
    "***\n",
    "## Inheritance\n",
    "***\n",
    "\n",
    "A natural way to organize various structural components of a software package is in a **hierarchical** fashion, with similar abstract definitions grouped together in a level-by-level manner that goes from specific to more general as one traverses up the hierarchy. An example of such a hierarchy is depicted below. Using mathematical notations, the set of houses is a **subset** of the set of buildings, but a **superset** of the set of ranches. The correspondence between levels is often referred to as an **“is a” relationship**, as a house is a building, and a ranch is a house."
   ]
  },
  {
   "cell_type": "markdown",
   "id": "64c4d563",
   "metadata": {},
   "source": [
    "<div>\n",
    "<img src=\"https://s4.uupload.ir/files/screenshot_2022-01-03_121021_qrg8.png\" width=\"600\"/>\n",
    "</div>"
   ]
  },
  {
   "cell_type": "markdown",
   "id": "32bc68b8",
   "metadata": {},
   "source": [
    "A hierarchical design is useful in software development, as common functionality can be grouped at the most general level, thereby promoting reuse of code, while differentiated behaviors can be viewed as extensions of the general case, In object-oriented programming, the mechanism for a modular and hierarchical organization is a technique known as **inheritance**. This allows a new class to be defined based upon an existing class as the starting point. In object-oriented terminology, the existing class is typically described as the **base class**, **parent class**, or **superclass**, while the newly defined class is known as the **subclass** or **child class**."
   ]
  },
  {
   "cell_type": "markdown",
   "id": "9f41c38d",
   "metadata": {},
   "source": [
    "## Python’s Exception Hierarchy\n",
    "\n",
    "Another example of a rich inheritance hierarchy is the organization of various exception types in Python. We introduced many of those classes in Previous lecture, but did not discuss their relationship with each other. Figure 2.5 illustrates a (small) portion of that hierarchy. The BaseException class is the root of the entire hierarchy, while the more specific Exception class includes most of the error types that we have discussed. Programmers are welcome to define their own special exception classes to denote errors that may occur in the context of their application. Those user-defined exception types should be declared as subclasses of Exception."
   ]
  },
  {
   "cell_type": "markdown",
   "id": "6394d7ec",
   "metadata": {},
   "source": [
    "<div>\n",
    "<img src=\"https://s4.uupload.ir/files/343543_976v.png\" width=\"600\"/>\n",
    "</div>"
   ]
  },
  {
   "cell_type": "markdown",
   "id": "066111b9",
   "metadata": {},
   "source": [
    "### Extending the Person class\n"
   ]
  },
  {
   "cell_type": "code",
   "execution_count": 11,
   "id": "11070759",
   "metadata": {},
   "outputs": [
    {
     "name": "stdout",
     "output_type": "stream",
     "text": [
      "welcome joe evans to the python programming crash course.\n",
      "joe evans\n"
     ]
    }
   ],
   "source": [
    "class Person:\n",
    "    normal_bmi = 18\n",
    "    def __init__(self, name, last_name):\n",
    "        self.name = name\n",
    "        self.last_name = last_name \n",
    "    \n",
    "    def declare_name(self):\n",
    "        return self.name + \" \" + self.last_name\n",
    "    \n",
    "    def bmi_calculator(self, height, weight): \n",
    "        result = str(weight / pow(height, 2))\n",
    "        underweight = None\n",
    "        if float(result) > Person.normal_bmi:\n",
    "            underweight = \", and this person is not underweighted.\"\n",
    "        else:\n",
    "            underweight = \", and this person is underweighted.\"\n",
    "        return \"This person BMI is: \" + result + underweight\n",
    "\n",
    "\n",
    "class Student(Person):\n",
    "    def welcome(self):\n",
    "        return \"welcome \" + Person.declare_name(self) + \" to the python programming crash course.\"\n",
    "\n",
    "student_instance = Student(\"joe\", \"evans\")\n",
    "print(student_instance.welcome())\n",
    "print(student_instance.declare_name())"
   ]
  },
  {
   "cell_type": "markdown",
   "id": "09259c5b",
   "metadata": {},
   "source": [
    "* <mark>**Note:** When you add the ```__init__()``` function, the child class will no longer inherit the parent's ```__init__()``` function. The child's ```__init__()``` function **overrides** the inheritance of the parent's ```__init__()``` function.</mark>\n",
    "\n",
    "for further illustration consider the example below:"
   ]
  },
  {
   "cell_type": "code",
   "execution_count": 12,
   "id": "36e655f8",
   "metadata": {},
   "outputs": [
    {
     "name": "stdout",
     "output_type": "stream",
     "text": [
      "welcome joe evans to the python programming crash course.\n",
      "joe evans\n"
     ]
    }
   ],
   "source": [
    "class Person:\n",
    "    normal_bmi = 18\n",
    "    def __init__(self, name, last_name):\n",
    "        self.name = name\n",
    "        self.last_name = last_name \n",
    "    \n",
    "    def declare_name(self):\n",
    "        return self.name + \" \" + self.last_name\n",
    "    \n",
    "    def bmi_calculator(self, height, weight): \n",
    "        result = str(weight / pow(height, 2))\n",
    "        underweight = None\n",
    "        if float(result) > Person.normal_bmi:\n",
    "            underweight = \", and this person is not underweighted.\"\n",
    "        else:\n",
    "            underweight = \", and this person is underweighted.\"\n",
    "        return \"This person BMI is: \" + result + underweight\n",
    "\n",
    "class Student(Person):\n",
    "    \n",
    "    def __init__(self, name, last_name):\n",
    "        self.name = name\n",
    "        self.last_name = last_name \n",
    "        \n",
    "    def welcome(self):\n",
    "        return \"welcome \" + Person.declare_name(self) + \" to the python programming crash course.\"\n",
    "\n",
    "student_instance = Student(\"joe\", \"evans\")\n",
    "print(student_instance.welcome())\n",
    "print(student_instance.declare_name())"
   ]
  },
  {
   "cell_type": "markdown",
   "id": "f2f92aed",
   "metadata": {},
   "source": [
    "* <mark>**Note:** To keep the inheritance of the parent's ```__init__()``` function, add a call to the parent's ```__init__()``` function:</mark>"
   ]
  },
  {
   "cell_type": "code",
   "execution_count": 10,
   "id": "45596a59",
   "metadata": {},
   "outputs": [
    {
     "name": "stdout",
     "output_type": "stream",
     "text": [
      "welcome joe evans to the python programming crash course.\n",
      "joe evans\n"
     ]
    }
   ],
   "source": [
    "class Person:\n",
    "    normal_bmi = 18\n",
    "    def __init__(self, name, last_name):\n",
    "        self.name = name\n",
    "        self.last_name = last_name \n",
    "    \n",
    "    def declare_name(self):\n",
    "        return self.name + \" \" + self.last_name\n",
    "    \n",
    "    def bmi_calculator(self, height, weight): \n",
    "        result = str(weight / pow(height, 2))\n",
    "        underweight = None\n",
    "        if float(result) > Person.normal_bmi:\n",
    "            underweight = \", and this person is not underweighted.\"\n",
    "        else:\n",
    "            underweight = \", and this person is underweighted.\"\n",
    "        return \"This person BMI is: \" + result + underweight\n",
    "\n",
    "class Student(Person):\n",
    "    \n",
    "    def __init__(self, name, last_name):\n",
    "        Person.__init__(self, name, last_name) \n",
    "        \n",
    "    def welcome(self):\n",
    "        return \"welcome \" + Person.declare_name(self) + \" to the python programming crash course.\"\n",
    "\n",
    "student_instance = Student(\"joe\", \"evans\")\n",
    "print(student_instance.welcome())\n",
    "print(student_instance.declare_name())"
   ]
  },
  {
   "cell_type": "markdown",
   "id": "b1827429",
   "metadata": {},
   "source": [
    "#### Use the ```super()``` Function\n",
    "\n",
    "Python also has a ```super()``` function that will make the child class inherit all the methods and properties from its parent:"
   ]
  },
  {
   "cell_type": "code",
   "execution_count": 14,
   "id": "44ccf80a",
   "metadata": {},
   "outputs": [
    {
     "name": "stdout",
     "output_type": "stream",
     "text": [
      "welcome joe evans to the python programming crash course.\n",
      "joe evans\n"
     ]
    }
   ],
   "source": [
    "class Person:\n",
    "    normal_bmi = 18\n",
    "    def __init__(self, name, last_name):\n",
    "        self.name = name\n",
    "        self.last_name = last_name \n",
    "    \n",
    "    def declare_name(self):\n",
    "        return self.name + \" \" + self.last_name\n",
    "    \n",
    "    def bmi_calculator(self, height, weight): \n",
    "        result = str(weight / pow(height, 2))\n",
    "        underweight = None\n",
    "        if float(result) > Person.normal_bmi:\n",
    "            underweight = \", and this person is not underweighted.\"\n",
    "        else:\n",
    "            underweight = \", and this person is underweighted.\"\n",
    "        return \"This person BMI is: \" + result + underweight\n",
    "\n",
    "class Student(Person):\n",
    "    \n",
    "    def __init__(self, name, last_name):\n",
    "        super().__init__(name, last_name) \n",
    "        \n",
    "    def welcome(self):\n",
    "        return \"welcome \" + Person.declare_name(self) + \" to the python programming crash course.\"\n",
    "\n",
    "student_instance = Student(\"joe\", \"evans\")\n",
    "print(student_instance.welcome())\n",
    "print(student_instance.declare_name())"
   ]
  },
  {
   "cell_type": "markdown",
   "id": "6ca976b2",
   "metadata": {},
   "source": [
    "* The above example is a very simple example of a class inheriting another class methods and attributes. what if we want to  extend the attributes of our child class?"
   ]
  },
  {
   "cell_type": "code",
   "execution_count": 38,
   "id": "0d53f48d",
   "metadata": {},
   "outputs": [
    {
     "name": "stdout",
     "output_type": "stream",
     "text": [
      "welcome harry smith  to the python programming crash course.\n",
      "harry smith has registered to the class in: 2018\n"
     ]
    }
   ],
   "source": [
    "class Person:\n",
    "    normal_bmi = 18\n",
    "    def __init__(self, name, last_name):\n",
    "        self.name = name\n",
    "        self.last_name = last_name \n",
    "    \n",
    "    def declare_name(self):\n",
    "        return self.name + \" \" + self.last_name\n",
    "    \n",
    "    def bmi_calculator(self, height, weight): \n",
    "        result = str(weight / pow(height, 2))\n",
    "        underweight = None\n",
    "        if float(result) > Person.normal_bmi:\n",
    "            underweight = \", and this person is not underweighted.\"\n",
    "        else:\n",
    "            underweight = \", and this person is underweighted.\"\n",
    "        return \"This person BMI is: \" + result + underweight\n",
    "\n",
    "class Student(Person):\n",
    "    def __init__(self, name, last_name, register_year):\n",
    "        super().__init__(name, last_name) \n",
    "        self.register_year = register_year\n",
    "        \n",
    "    def welcome(self):\n",
    "        return \"welcome \" + Person.declare_name(self) + \"  to the python programming crash course.\"\n",
    "    \n",
    "    def announce(self, gpa):\n",
    "        return Person.declare_name(self) + \" has registered to the class in: \" + str(self.register_year)\n",
    "\n",
    "sample = Student(\"harry\", \"smith\", 2018)\n",
    "print(sample.welcome())\n",
    "print(sample.announce(3.2))"
   ]
  },
  {
   "cell_type": "markdown",
   "id": "9e8fd391",
   "metadata": {},
   "source": [
    "### Key differences between above methods for inheriting from a parent class\n",
    "\n",
    "1. ```super()``` function does not take ```self``` identifier, but calling the parent's class name will require you to give the ```self``` identifier.\n",
    "\n",
    "2. Calling a parent class name will makes it easier for you to do multiple inheritances.\n",
    "\n",
    "3. By using ```super()``` you wil be able to use dependency injection. (which is not of our concern in this course)"
   ]
  },
  {
   "cell_type": "markdown",
   "id": "8ff25e27",
   "metadata": {},
   "source": [
    "### But wait! what exactly is multiple inheritance?!\n",
    "\n",
    "First let's understand a concept named **MRO**.\n",
    "\n",
    "### Method Resolution Order (aka MRO)\n",
    "\n",
    "**Method Resolution Order(MRO)** it denotes the way a programming language resolves a method or attribute. Python supports classes inheriting from other classes. The class being inherited is called the Parent or Superclass, while the class that inherits is called the Child or Subclass.\n",
    "\n",
    "In python, method resolution order defines the order in which the base classes are searched when executing a method. First, the method or attribute is searched within a class and then it follows the order we specified while inheriting.\n",
    "\n",
    "This order is also called Linearization of a class and set of rules are called **MRO(Method Resolution Order)**. While inheriting from another class, the interpreter needs a way to resolve the methods that are being called via an instance. Thus we need the method resolution order. For Example:"
   ]
  },
  {
   "cell_type": "code",
   "execution_count": 33,
   "id": "b89ca91b",
   "metadata": {},
   "outputs": [
    {
     "name": "stdout",
     "output_type": "stream",
     "text": [
      " In class B\n"
     ]
    }
   ],
   "source": [
    "class A:\n",
    "    def f(self):\n",
    "        print(\" In class A\")\n",
    "        \n",
    "class B(A):\n",
    "    def f(self):\n",
    "        print(\" In class B\")\n",
    "        \n",
    "class C(A):\n",
    "    def f(self):\n",
    "        print(\"In class C\")\n",
    "  \n",
    "class D(B, C):\n",
    "    pass\n",
    "     \n",
    "a = D()\n",
    "a.f()"
   ]
  },
  {
   "cell_type": "markdown",
   "id": "99e907f9",
   "metadata": {},
   "source": [
    "In the above example we use multiple inheritances and it is also called Diamond inheritance or Deadly Diamond of Death and it looks as follows:"
   ]
  },
  {
   "cell_type": "markdown",
   "id": "453d4c38",
   "metadata": {},
   "source": [
    "<div>\n",
    "<img src=\"https://media.geeksforgeeks.org/wp-content/uploads/220px-diamond_inheritance-svg.png\" width=\"150\"/>\n",
    "</div>"
   ]
  },
  {
   "cell_type": "markdown",
   "id": "c80b2d0c",
   "metadata": {},
   "source": [
    "Python follows a **depth-first** lookup order and hence ends up calling the method from class ```A```. By following the method resolution order, the lookup order as follows: \n",
    "\n",
    "```\n",
    "Class D -> Class B -> Class C -> Class A\n",
    "```\n",
    "\n",
    "Python follows **depth-first** order to resolve the methods and attributes. So in the above example, it executes the method in class ```B```."
   ]
  },
  {
   "cell_type": "markdown",
   "id": "7a6650fa",
   "metadata": {},
   "source": [
    "### C3 Linearization Algorithm\n",
    "\n",
    "```C3 Linearization algorithm``` is an algorithm that uses new-style classes. It is used to remove an inconsistency created by ```DLR``` Algorithm. It has certain limitation they are:\n",
    "\n",
    "1. Children precede their parents\n",
    "\n",
    "2. If a class inherits from multiple classes, they are kept in the order specified in the tuple of the base class.\n",
    "\n",
    "```C3 Linearization Algorithm``` works on three rules:\n",
    "\n",
    "1. Inheritance graph determines the structure of method resolution order.\n",
    "2. User have to visit the super class only after the method of the local classes are visited.\n",
    "3. Monotonicity"
   ]
  },
  {
   "cell_type": "markdown",
   "id": "359bb31b",
   "metadata": {},
   "source": [
    "### Methods for Method Resolution Order(MRO) of a class\n",
    "\n",
    "To get the method resolution order of a class we can use either ```__mro__``` attribute or ```mro()``` method. By using these methods we can display the order in which methods are resolved. For Example:"
   ]
  },
  {
   "cell_type": "code",
   "execution_count": 35,
   "id": "2b0e2669",
   "metadata": {},
   "outputs": [
    {
     "name": "stdout",
     "output_type": "stream",
     "text": [
      "(<class '__main__.D'>, <class '__main__.B'>, <class '__main__.C'>, <class '__main__.A'>, <class 'object'>)\n"
     ]
    }
   ],
   "source": [
    "class A:\n",
    "    def f(self):\n",
    "        print(\" In class A\")\n",
    "        \n",
    "class B(A):\n",
    "    def f(self):\n",
    "        print(\" In class B\")\n",
    "        \n",
    "class C(A):\n",
    "    def f(self):\n",
    "        print(\"In class C\")\n",
    "  \n",
    "class D(B, C):\n",
    "    pass\n",
    "     \n",
    "a = D()\n",
    "print(D.__mro__)  # or print(D.mro())"
   ]
  },
  {
   "cell_type": "markdown",
   "id": "50d67a22",
   "metadata": {},
   "source": [
    "### Multiple inheritence\n",
    "\n",
    "Now that you know how **MRO** works, we get back where we left off. sometimes you must inherit from more than one class; here is how we do this: "
   ]
  },
  {
   "cell_type": "code",
   "execution_count": 32,
   "id": "91070d3b",
   "metadata": {},
   "outputs": [
    {
     "name": "stdout",
     "output_type": "stream",
     "text": [
      "Line class instance:  4\n",
      "Square class instance:  <__main__.Square object at 0x000002A1A8F3AE20>\n",
      "Rectangle class instance:  <__main__.Rectangle object at 0x000002A1AA8514C0>\n",
      "Rectangle class method:  (3, 4, 5)\n",
      "Line class method (which an object of Rectangle class will have access to it):  5\n"
     ]
    }
   ],
   "source": [
    "class Line:\n",
    "    def __init__(self, length, **kwargs):\n",
    "        self.length = length\n",
    "\n",
    "    def pp(self):\n",
    "        return self.length\n",
    "\n",
    "\n",
    "class Square:\n",
    "    def __init__(self, size, **kwargs):\n",
    "        self.size = size\n",
    "\n",
    "\n",
    "class Rectangle(Square, Line):\n",
    "    def __init__(self, height, width, length):\n",
    "        Square.__init__(self, height)  # equivalent to: super().__init__(size) \n",
    "        Line.__init__(self, length)   # equivalent to: super(Square, self).__init__(length)\n",
    "        self.width = width\n",
    "        \n",
    "    def p_(self):\n",
    "        return self.size, self.width, self.length  # Caution: self.height will raise an error. can you explain why?\n",
    "\n",
    "\n",
    "a = Line(4)\n",
    "print(\"Line class instance: \", a.pp())\n",
    "b = Square(5)\n",
    "print(\"Square class instance: \", b)\n",
    "c = Rectangle(3, 4, 5)\n",
    "print(\"Rectangle class instance: \", c)\n",
    "print(\"Rectangle class method: \", c.p_())\n",
    "print(\"Line class method (which an object of Rectangle class will have access to it): \", c.pp())"
   ]
  },
  {
   "cell_type": "markdown",
   "id": "e887be71",
   "metadata": {},
   "source": [
    "## Magic methods\n",
    "\n",
    "So far, we have discussed classes and inheritance thoroughly. let's dive deeper.\n",
    "\n",
    "* **what is magic method?**\n",
    "\n",
    "Magic methods are special methods (which are built-in inside python core) that you can define to add ‘magic’ to your classes.\n",
    "<mark>They are always surrounded by double underscores</mark>, for example, the ```__init__``` and ```__str__``` magic methods.\n",
    "\n",
    "see the example below:"
   ]
  },
  {
   "cell_type": "code",
   "execution_count": 45,
   "id": "cdca8a1b",
   "metadata": {},
   "outputs": [
    {
     "name": "stdout",
     "output_type": "stream",
     "text": [
      "inside str\n",
      "Name: tom, Last name: willson, Age: 27\n",
      "\n",
      "inside repr\n"
     ]
    },
    {
     "data": {
      "text/plain": [
       "Name: tom, Last name: willson, Age: 27"
      ]
     },
     "execution_count": 45,
     "metadata": {},
     "output_type": "execute_result"
    }
   ],
   "source": [
    "class Person:\n",
    "    def __init__(self, name, last_name, age):\n",
    "        self.name = name\n",
    "        self.last_name = last_name\n",
    "        self.age = age\n",
    "        \n",
    "    def __str__(self):\n",
    "        print('inside str')\n",
    "        return \"Name: {}, Last name: {}, Age: {}\".format(self.name, self.last_name, self.age)\n",
    "    \n",
    "    def __repr__(self):\n",
    "        print('inside repr')\n",
    "        return \"Name: {}, Last name: {}, Age: {}\".format(self.name, self.last_name, self.age)\n",
    "    \n",
    "instance = Person(\"tom\", \"willson\", \"27\")\n",
    "print(instance)\n",
    "print()  # to print a blank line between two print commands\n",
    "instance"
   ]
  },
  {
   "cell_type": "markdown",
   "id": "1c87ae66",
   "metadata": {},
   "source": [
    "**Another example magic methods:**"
   ]
  },
  {
   "cell_type": "code",
   "execution_count": 47,
   "id": "6d6737a4",
   "metadata": {},
   "outputs": [
    {
     "name": "stdout",
     "output_type": "stream",
     "text": [
      "str this is my object [0, 1, 2, 3, 4, 5, 6]\n",
      "setter:  this is my object ['first element', 1, 2, 3, 4, 5, 6]\n",
      "getter:  6\n",
      "len 7\n"
     ]
    }
   ],
   "source": [
    "class CustomizedList(list):  # this class inherits from the python built-in list class.\n",
    "    \n",
    "    def __init__(self, number):\n",
    "        self.my_list = [i for i in range(number)]\n",
    "  \n",
    "    def __str__(self):\n",
    "        return \"this is my object \" + str(self.my_list)\n",
    "    \n",
    "    def __setitem__(self, index, value):  # we call this method setter\n",
    "        self.my_list[index] = value\n",
    "        \n",
    "    def __getitem__(self, index):  # and this is called getter\n",
    "        return self.my_list[index]\n",
    "    \n",
    "    def __len__(self):\n",
    "        return len(self.my_list)\n",
    "    \n",
    "instance = CustomizedList(7)\n",
    "print(\"str\", instance)\n",
    "instance[0] = \"first element\" \n",
    "print(\"setter: \", instance)\n",
    "print(\"getter: \", instance[-1])\n",
    "print(\"len\", len(instance))"
   ]
  },
  {
   "cell_type": "markdown",
   "id": "8be79fd7",
   "metadata": {},
   "source": [
    "## Decorators\n",
    "\n",
    "well now is the time to talk about something called ```decorator```. decorators are used to modify the behavior of function or \n",
    "class. **In Decorators, functions are taken as the argument into another function and then called inside the wrapper function.**"
   ]
  },
  {
   "cell_type": "code",
   "execution_count": 48,
   "id": "c49200af",
   "metadata": {},
   "outputs": [
    {
     "name": "stdout",
     "output_type": "stream",
     "text": [
      "Ordinary division function will look like: \n",
      "2.8\n",
      "None\n",
      "decorated division function will look like: \n",
      "we are going to divide 14 and 5\n",
      "2.8\n",
      "None\n"
     ]
    }
   ],
   "source": [
    "def divide(a, b):\n",
    "    print(a/b)\n",
    "\n",
    "def smart_divide(function):\n",
    "    def division(a, b):\n",
    "        print(\"we are going to divide\", a, \"and\", b)\n",
    "        if b == 0:\n",
    "            print(\"Whoops! can't be divided.\")\n",
    "            return\n",
    "        return function(a, b)\n",
    "    \n",
    "    return division\n",
    "\n",
    "print(\"Ordinary division function will look like: \")\n",
    "print(divide(14, 5))\n",
    "print(\"decorated division function will look like: \")\n",
    "decorated = smart_divide(divide)\n",
    "print(decorated(14, 5))"
   ]
  },
  {
   "cell_type": "markdown",
   "id": "49b81bd1",
   "metadata": {},
   "source": [
    "Decorators are a very powerful and useful tool in Python since it allows programmers to modify the behaviour of function or class. Decorators allow us to wrap another function in order to extend the behaviour of the wrapped function, **without permanently modifying it.**\n",
    "\n",
    "We can define a decorator as a class in order to do that, we have to use a ```__call__``` method of classes. When a user needs to create an object that acts as a function then function decorator needs to return an object that acts like a function, so ```__call__``` can be useful.\n",
    "\n",
    "<mark>**Note:** you can also use ```*args``` and ```**kwargs``` notation in class decorators.</mark>\n",
    "\n",
    "For Example:"
   ]
  },
  {
   "cell_type": "code",
   "execution_count": 58,
   "id": "2a3dda41",
   "metadata": {},
   "outputs": [
    {
     "name": "stdout",
     "output_type": "stream",
     "text": [
      "hello, Johnathan\n"
     ]
    }
   ],
   "source": [
    "class MyDecorator:\n",
    "    \n",
    "    def __init__(self, function):\n",
    "        self.function = function\n",
    "     \n",
    "    def __call__(self, *args, **kwargs):\n",
    " \n",
    "        # We can add some code before function call\n",
    "         \n",
    "        self.function(*args, **kwargs)\n",
    " \n",
    "        # We can also add some code after function call.\n",
    "\n",
    " \n",
    "@MyDecorator\n",
    "def function(name, message ='Hello'):\n",
    "    print(\"{}, {}\".format(message, name))\n",
    " \n",
    "function(\"Johnathan\", \"hello\")"
   ]
  }
 ],
 "metadata": {
  "kernelspec": {
   "display_name": "Python 3 (ipykernel)",
   "language": "python",
   "name": "python3"
  },
  "language_info": {
   "codemirror_mode": {
    "name": "ipython",
    "version": 3
   },
   "file_extension": ".py",
   "mimetype": "text/x-python",
   "name": "python",
   "nbconvert_exporter": "python",
   "pygments_lexer": "ipython3",
   "version": "3.9.7"
  }
 },
 "nbformat": 4,
 "nbformat_minor": 5
}
