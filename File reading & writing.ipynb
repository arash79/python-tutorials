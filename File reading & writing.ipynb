{
 "cells": [
  {
   "cell_type": "markdown",
   "metadata": {
    "collapsed": true
   },
   "source": [
    "# Reading and Writing files\n",
    "\n",
    "\n",
    "## what is a file?\n",
    "\n",
    "Before we can go into how to work with files in Python, it’s important to understand what exactly a file is and how modern operating systems handle some of their aspects.\n",
    "\n",
    "At its core, a file is a contiguous set of bytes used to store data. This data is organized in a specific format and can be anything as simple as a text file or as complicated as a program executable. In the end, these byte files are then translated into binary 1 and 0 for easier processing by the computer.\n",
    "\n",
    "Files on most modern file systems are composed of three main parts:\n",
    "\n",
    "1. **Header:** metadata about the contents of the file (file name, size, type, and so on)\n",
    "2. **Data:** contents of the file as written by the creator or editor\n",
    "3. **End of file (EOF):** special character that indicates the end of the file"
   ]
  },
  {
   "cell_type": "markdown",
   "metadata": {},
   "source": [
    "<div>\n",
    "<img src=\"https://files.realpython.com/media/FileFormat.02335d06829d.png\" width=\"300\"/>\n",
    "</div>"
   ]
  },
  {
   "cell_type": "markdown",
   "metadata": {},
   "source": [
    "## major file types in python\n",
    "\n",
    "Python provides inbuilt functions for creating, writing and reading files. There are two types of files that can be handled in python, normal text files and binary files.\n",
    "\n",
    "**Text files:** In this type of file, Each line of text is terminated with a special character called EOL (End of Line), which is the new line character ```\"\\n\"``` in python by default.<br>\n",
    "\n",
    "**Binary files:** In this type of file, there is no terminator for a line and the data is stored after converting it into machine understandable binary language.\n",
    "\n",
    "In this article, we will be focusing on opening, closing, reading and writing data in a text file."
   ]
  },
  {
   "cell_type": "markdown",
   "metadata": {},
   "source": [
    "## File Paths\n",
    "\n",
    "When you access a file on an operating system, a file path is required. The file path is a string that represents the location of a file. It’s broken up into three major parts:\n",
    "\n",
    "1. **Folder Path:** the file folder location on the file system where subsequent folders are separated by a forward slash ```/``` (Unix) or backslash ```\\``` (Windows)\n",
    "\n",
    "2. **File Name:** the actual name of the file\n",
    "\n",
    "3. **Extension:** the end of the file path pre-pended with a period (.) used to indicate the file type"
   ]
  },
  {
   "cell_type": "markdown",
   "metadata": {},
   "source": [
    "## End of File characters\n",
    "\n",
    "One problem often encountered when working with file data is the representation of a new line or line ending. The line ending has its roots from back in the Morse Code era, when a specific pro-sign was used to communicate the end of a transmission or the end of a line.\n",
    "\n",
    "Later, this was standardized for teleprinters by both the International Organization for Standardization (ISO) and the American Standards Association (ASA). ASA standard states that line endings should use the sequence of the Carriage Return (```CR``` or ```\\r```) and the Line Feed (```LF``` or ```\\n```) characters (```CR+LF``` or ```\\r\\n```). The ISO standard however allowed for either the ```CR+LF``` characters or just the LF character.\n",
    "\n",
    "Windows uses the ```CR+LF``` characters to indicate a new line, while Unix and the newer Mac versions use just the ```LF``` character. This can cause some complications when you’re processing files on an operating system that is different than the file’s source. Here’s a quick example:"
   ]
  },
  {
   "cell_type": "code",
   "execution_count": 2,
   "metadata": {},
   "outputs": [
    {
     "name": "stdout",
     "output_type": "stream",
     "text": [
      "['This is Delhi\\n']\n",
      "new line\n"
     ]
    }
   ],
   "source": [
    "print(\"This is Delhi\\n\".strip(\"\\n\"))\n",
    "print(\"new line\")"
   ]
  },
  {
   "cell_type": "markdown",
   "metadata": {},
   "source": [
    "## Privilege\n",
    "\n",
    "Access modes govern the type of operations possible in the opened file. It refers to how the file will be used once it's opened. These modes also define the location of the **File Handle** in the file. File handle is like a cursor, which defines from where the data has to be read or written in the file. There are 6 access modes in python.\n",
    "\n",
    "1. **Read Only ```\"r\"```(```\"rb\"``` for binary files):**\n",
    "\n",
    "Open text file for reading. The handle is positioned at the beginning of the file. If the file does not exists, raises I/O error. This is also the default mode in which file is opened.\n",
    "    \n",
    "2. **Read and Write (```\"r+\"```):**\n",
    "\n",
    "Open the file for reading and writing. The handle is positioned at the beginning of the file. Raises I/O error if the file does not exists.\n",
    "\n",
    "3. **Write Only (```\"w\"```)(```\"wb\"``` for binary files):**\n",
    "\n",
    "Open the file for writing. For existing file, the data is truncated and over-written. The handle is positioned at the beginning of the file. Creates the file if the file does not exists.\n",
    "\n",
    "4. **Write and Read (```\"w+\"```):**\n",
    "\n",
    "Open the file for reading and writing. For existing file, data is truncated and over-written. The handle is positioned at the beginning of the file.\n",
    "\n",
    "5. **Append Only (```\"a\"```):**\n",
    "\n",
    "Open the file for writing. The file is created if it does not exist. The handle is positioned at the end of the file. The data being written will be inserted at the end, after the existing data.\n",
    "\n",
    "6. **Append and Read (```\"a+\"```):** \n",
    "\n",
    "Open the file for reading and writing. The file is created if it does not exist. The handle is positioned at the end of the file. The data being written will be inserted at the end, after the existing data."
   ]
  },
  {
   "cell_type": "markdown",
   "metadata": {},
   "source": [
    "## Opening a file\n",
    "\n",
    "It is done using the open() function. (No module is required to be imported for this function.)\n",
    "\n",
    "```python\n",
    "file_object = open(\"Path to file\",\"Access Mode\")\n",
    "```"
   ]
  },
  {
   "cell_type": "markdown",
   "metadata": {},
   "source": [
    "## Closing a file\n",
    "\n",
    "```close()``` function closes the file and frees the memory space acquired by that file. It is used at the time when the file is no longer needed or if it is to be opened in a different file mode."
   ]
  },
  {
   "cell_type": "code",
   "execution_count": 2,
   "metadata": {},
   "outputs": [],
   "source": [
    "# Opening and Closing a file \"MyFile.txt\"\n",
    "# for object name file1.\n",
    "file_object = open(\"MyFile.txt\",\"a\")\n",
    "file_object.close()"
   ]
  },
  {
   "cell_type": "markdown",
   "metadata": {},
   "source": [
    "also, you can use **with block** to avoid using close() function. The file will close automatically whenever you get out of the *with block*.\n",
    "\n",
    "\n",
    "```python\n",
    "with open(\"MyFile.txt\",\"a\") as file_object:\n",
    "    ...\n",
    "    ...\n",
    "\n",
    "```"
   ]
  },
  {
   "cell_type": "markdown",
   "metadata": {},
   "source": [
    "## Writing to a file\n",
    "\n",
    "There are two ways to write in a file.\n",
    "\n",
    "1. **write():** Inserts the string str1 in a single line in the text file.\n",
    "\n",
    "```python\n",
    "file_object.write(str1)\n",
    "```"
   ]
  },
  {
   "cell_type": "markdown",
   "metadata": {},
   "source": [
    "2. **writelines():** For a list of string elements, each string is inserted in the text file. Used to insert multiple strings at a single time.\n",
    "\n",
    "```python\n",
    "file_object.writelines(L) for L = [str1, str2, str3] \n",
    "```"
   ]
  },
  {
   "cell_type": "markdown",
   "metadata": {},
   "source": [
    "## Reading from a file\n",
    "\n",
    "There are three ways to read data from a text file.\n",
    "\n",
    "1. **read():** Returns the read bytes in form of a string. Reads n bytes, if no n specified, reads the entire file.\n",
    "\n",
    "```python\n",
    "file_object.read(n)\n",
    "```"
   ]
  },
  {
   "cell_type": "markdown",
   "metadata": {},
   "source": [
    "2. **readline():** Reads a line of the file and returns in form of a string.For specified n, reads at most n bytes. However, does not reads more than one line, even if n exceeds the length of the line.\n",
    "\n",
    "```python\n",
    "file_object.readline(n)\n",
    "```"
   ]
  },
  {
   "cell_type": "markdown",
   "metadata": {},
   "source": [
    "3. **readlines():** Reads all the lines and return them as each line a string element in a list.\n",
    "\n",
    "```python\n",
    "file_object.readlines()\n",
    "```"
   ]
  },
  {
   "cell_type": "code",
   "execution_count": 3,
   "metadata": {},
   "outputs": [
    {
     "name": "stdout",
     "output_type": "stream",
     "text": [
      "Output of Read function is \n",
      "Hello\n",
      "This is Delhi\n",
      "This is Paris\n",
      "This is London\n",
      "\n",
      "\n",
      "Output of Readline function is \n",
      "Hello\n",
      "\n",
      "\n",
      "Output of Read(9) function is \n",
      "Hello\n",
      "Thi\n",
      "\n",
      "Output of Readline(9) function is \n",
      "Hello\n",
      "\n",
      "Output of Readlines function is \n",
      "['Hello\\n', 'This is Delhi\\n', 'This is Paris\\n', 'This is London\\n']\n",
      "\n"
     ]
    }
   ],
   "source": [
    "# Program to show various ways to read and write data in a file.\n",
    "\n",
    "with open(\"MyFile.txt\",\"w\") as file1:\n",
    "    \n",
    "    L = [\"This is Delhi\\n\",\"This is Paris\\n\",\"This is London\\n\"]\n",
    "    \n",
    "    # \\n is placed to indicate EOL (End of Line)\n",
    "    file1.write(\"Hello\\n\")\n",
    "    file1.writelines(L)\n",
    "\n",
    "with open(\"MyFile.txt\",\"r+\") as file1:\n",
    "\n",
    "    print(\"Output of Read function is \")\n",
    "    print(file1.read(), end='\\n\\n')\n",
    "\n",
    "    # seek(n) takes the file handle to the nth bite from the beginning.\n",
    "    file1.seek(0)\n",
    "\n",
    "    print( \"Output of Readline function is \")\n",
    "    print(file1.readline(), end='\\n\\n')\n",
    "\n",
    "    file1.seek(0)\n",
    "\n",
    "    # To show difference between read and readline\n",
    "    print(\"Output of Read(9) function is \")\n",
    "    print(file1.read(9), end='\\n\\n')\n",
    "\n",
    "    file1.seek(0)\n",
    "\n",
    "    print(\"Output of Readline(9) function is \")\n",
    "    print(file1.readline(9))\n",
    "\n",
    "    file1.seek(0)\n",
    "    # readlines function\n",
    "    print(\"Output of Readlines function is \")\n",
    "    print(file1.readlines(), end='\\n\\n')\n"
   ]
  },
  {
   "cell_type": "code",
   "execution_count": null,
   "metadata": {},
   "outputs": [],
   "source": []
  }
 ],
 "metadata": {
  "kernelspec": {
   "display_name": "Python 3 (ipykernel)",
   "language": "python",
   "name": "python3"
  },
  "language_info": {
   "codemirror_mode": {
    "name": "ipython",
    "version": 3
   },
   "file_extension": ".py",
   "mimetype": "text/x-python",
   "name": "python",
   "nbconvert_exporter": "python",
   "pygments_lexer": "ipython3",
   "version": "3.9.7"
  }
 },
 "nbformat": 4,
 "nbformat_minor": 1
}
